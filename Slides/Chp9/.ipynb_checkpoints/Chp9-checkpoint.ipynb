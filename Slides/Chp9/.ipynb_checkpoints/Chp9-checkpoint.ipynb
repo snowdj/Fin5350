{
 "cells": [
  {
   "cell_type": "markdown",
   "metadata": {
    "slideshow": {
     "slide_type": "slide"
    }
   },
   "source": [
    "# __Chapter 9 Parity and Other Option Relationships__\n",
    "\n",
    "\n",
    "\n",
    "## Tyler J. Brough\n",
    "\n",
    "#### Finance 5350\n",
    "\n",
    "#### @broughtj\n",
    "\n",
    "#### https://github.com/broughtj\n",
    "\n",
    "#### https://broughtj.github.io/\n",
    "\n"
   ]
  },
  {
   "cell_type": "markdown",
   "metadata": {
    "slideshow": {
     "slide_type": "slide"
    }
   },
   "source": [
    "# 9.1 Put-Call Parity"
   ]
  },
  {
   "cell_type": "markdown",
   "metadata": {
    "slideshow": {
     "slide_type": "subslide"
    }
   },
   "source": [
    "## IBM Options Quotes\n",
    "\n",
    "<br>\n",
    "\n",
    "<center>\n",
    "<img src=\"images/Table9-1.png\" alt=\"Table9-1\">\n",
    "</center>"
   ]
  },
  {
   "cell_type": "markdown",
   "metadata": {
    "slideshow": {
     "slide_type": "subslide"
    }
   },
   "source": [
    "## Put-Call Parity\n",
    "\n",
    "<br>\n",
    "\n",
    "\n",
    "* Put-call parity is the single most important relationship among option prices\n",
    "\n",
    "* The basic relationship for European options is\n",
    "\n",
    "$$\\begin{eqnarray}\n",
    "C(K,T) - P(K,T) &=& PV_{0,T}(F_{0,T} - K) \\\\\n",
    "                &=& e^{-rT} (F_{0,T} - K)\n",
    "\\end{eqnarray}$$\n",
    "\n",
    "* $C(K,T)$ is the price of a European call with strike price $K$ and time to expiry $T$\n",
    "\n",
    "\n",
    "* $P(K,T)$ is the price of a European put with strike price $K$ and time to expiry $T$\n",
    "\n",
    "\n",
    "* NB: $e^{-rT} F_{0,T}$ is the prepaid forward price and $e^{-rT} K$ is the prepaid forward \n",
    "  price for the strike, so we can think of parity in terms of prepaid forward prices\n",
    "  \n",
    "<br>"
   ]
  },
  {
   "cell_type": "markdown",
   "metadata": {
    "slideshow": {
     "slide_type": "subslide"
    }
   },
   "source": [
    "## Put-Call Parity Continued\n",
    "\n",
    "<br>\n",
    "\n",
    "* Intuition: buying a call and selling a put with strike price equal to the forward price $(F_{0,T} = K)$\n",
    "  creates a synthetic forward contract, hence must have zero price\n",
    "  \n",
    "  \n",
    "* A synthetic long forward position at a price lower than the forward price will cost $PV_{0,T}(F_{0,T} - K)$\n",
    "  since this is the benefit of buying the asset at the strike price rather than the forward price\n",
    "\n",
    "\n",
    "* Parity generally fails for American-style options, which may be exercised prior to maturity\n",
    "\n",
    "\n",
    "* There are some general parity bounds for American options (see Appendix 9.A)\n",
    "\n",
    "<br>"
   ]
  },
  {
   "cell_type": "markdown",
   "metadata": {
    "slideshow": {
     "slide_type": "subslide"
    }
   },
   "source": [
    "## Options on Stock\n",
    "\n",
    "<br>\n",
    "\n",
    "* The parity relation for options on stock is \n",
    "\n",
    "$$\n",
    "C(K,T) = P(K,T) + [S_{0} - PV_{0,T}(Div)] - e^{-rT}K\n",
    "$$\n",
    "\n",
    "<br>\n",
    "\n",
    "* NB: $S_{0}$ is the current spot price of the stock, and $DIV$ is the stream of dividends paid on the stock\n",
    "\n",
    "\n",
    "* For index options we can write\n",
    "\n",
    "$$\n",
    "C(K,T) = P(K,T) + S_{0}e^{-\\delta T} - e^{-rT}K\n",
    "$$\n",
    "\n",
    "<br>"
   ]
  },
  {
   "cell_type": "markdown",
   "metadata": {
    "slideshow": {
     "slide_type": "subslide"
    }
   },
   "source": [
    "## Example 9.1\n",
    "\n",
    "<br>\n",
    "\n",
    "Suppose the following:\n",
    "\n",
    "* the price of a non-dividend-paying stock is $\\$40$\n",
    "\n",
    "\n",
    "* the continuously compounded interest rate is $8\\%$\n",
    "\n",
    "\n",
    "* the options have an expiry of 3 months\n",
    "\n",
    "\n",
    "* A $40$-strike European call sells for $\\$2.78$ and a $40$-strike European put sells for $\\$1.99$\n",
    "\n",
    "\n",
    "* This is confirmed by put-call parity\n",
    "\n",
    "\n",
    "$$\n",
    "\\$2.78 = \\$1.99 + \\$40 - \\$40e^{-0.08 \\times 0.25}\n",
    "$$\n",
    "  \n",
    "<br>"
   ]
  },
  {
   "cell_type": "markdown",
   "metadata": {
    "slideshow": {
     "slide_type": "subslide"
    }
   },
   "source": [
    "## Example 9.2\n",
    "\n",
    "<br>\n",
    "\n",
    "Make the same assumptions as in Example 9.1 except that the stock pays a $\\$5$ dividend just prior to expiration\n",
    "\n",
    "* The European call option is $\\$0.74$ \n",
    "\n",
    "\n",
    "* The European put option is $\\$4.85$\n",
    "\n",
    "\n",
    "These prices satisfy put-call parity for a stock with dividends\n",
    "\n",
    "\n",
    "$$\n",
    "\\$0.74 - \\$4.85 = (\\$40 - \\$5e^{-0.08 \\times 0.25}) - \\$40e^{-0.08 \\times 0.25}\n",
    "$$\n",
    "\n",
    "\n",
    "<br>"
   ]
  },
  {
   "cell_type": "markdown",
   "metadata": {
    "slideshow": {
     "slide_type": "subslide"
    }
   },
   "source": [
    "## Synthetic Stock\n",
    "\n",
    "<br>\n",
    "\n",
    "* Given the parity relationship, we have a cookbook for the synthetic creations of options, stocks, and T-bills\n",
    "\n",
    "\n",
    "* Solving for the stock price we have\n",
    "\n",
    "\n",
    "$$\n",
    "S_{0} = C(K,T) - P(K,T) + PV_{0,T}(Div) + e^{-rT}K\n",
    "$$\n",
    "\n",
    "\n",
    "* Buying the call, selling the put, and lending the present value of the strike and dividends synthetically\n",
    "  replicates the stock \n",
    "\n",
    "<br>"
   ]
  },
  {
   "cell_type": "markdown",
   "metadata": {
    "slideshow": {
     "slide_type": "subslide"
    }
   },
   "source": [
    "## Synthetic T-bills\n",
    "\n",
    "<br>\n",
    "\n",
    "* If we buy the stock, sell the call, and buy the put, we have purchased the stock and short-sold the \n",
    "  synthetic stock\n",
    "  \n",
    "* This transaction gives us a hedged position with zero risk\n",
    "\n",
    "\n",
    "* It did, however, require initial investment\n",
    "\n",
    "\n",
    "* Parity shows the following: \n",
    "\n",
    "\n",
    "$$\n",
    "S_{0} + P(K,T) - C(K,T) = PV_{0,T}(K) + PV_{0,T}(Div)\n",
    "$$\n",
    "\n",
    "\n",
    "* This position costs $PV_{0,T}(K) + PV_{0,T}(Div)$ and pays $K + FV_{0,T}(Div)$ at expiry\n",
    "\n",
    "\n",
    "* This is a synthetic T-bill (called a conversion)\n",
    "\n",
    "\n",
    "* Likewise we can create a short T-bill position (called a reverse conversion)\n",
    "\n",
    "<br>"
   ]
  },
  {
   "cell_type": "markdown",
   "metadata": {
    "slideshow": {
     "slide_type": "subslide"
    }
   },
   "source": [
    "## Synthetic Options\n",
    "\n",
    "<br>\n",
    "\n",
    "* Parity tells us that\n",
    "\n",
    "$$\n",
    "C(K,T) = S_{0} - PV_{0,T}(Div) - PV_{0,T}(K) + P(K,T)\n",
    "$$\n",
    "\n",
    "* And also that\n",
    "\n",
    "$$\n",
    "P(K,T) = C(K,T) - S_{0} + PV_{0,T}(Div) + PV_{0,T}(K) + \n",
    "$$\n",
    "\n",
    "<br>\n",
    "\n",
    "* This gives us a hint about how to statically hedge an option \n",
    "\n",
    "<br>"
   ]
  },
  {
   "cell_type": "markdown",
   "metadata": {
    "slideshow": {
     "slide_type": "slide"
    }
   },
   "source": [
    "# 9.3 Comparing Options with Respect to Style, Maturity, and Strike"
   ]
  },
  {
   "cell_type": "markdown",
   "metadata": {
    "slideshow": {
     "slide_type": "subslide"
    }
   },
   "source": [
    "## European versus American Options\n",
    "\n",
    "\n",
    "* Since an American option can be exercised at anytime, whereas a European option can only be exercised at\n",
    "  expiration, an American option must always be at least as valuable as an otherwise identical European option\n",
    "      \n",
    "<br>\n",
    "\n",
    "$$\n",
    "\\begin{align}\n",
    "C_{Amer}(S,K,T) & \\ge C_{Eur}(S,K,T) \\\\\n",
    "P_{Amer}(S,K,T) & \\ge P_{Eur}(S,K,T) \n",
    "\\end{align}\n",
    "$$\n",
    "\n",
    "<br>"
   ]
  },
  {
   "cell_type": "markdown",
   "metadata": {
    "slideshow": {
     "slide_type": "subslide"
    }
   },
   "source": [
    "## Maximum and Minimum Option Prices\n",
    "\n",
    "- Call price cannot\n",
    "    + be negative\n",
    "    + exceed stock price\n",
    "    + be less than price implied by put-call parity using zero \n",
    "      for put price: \n",
    "          \n",
    "$$\n",
    "S > C_{Amer}(S,K,T) \\ge C_{Eur}(S,K,T) \\ge \\max{[0, PV_{0,T}(F_{0,T}) - PV_{0,T}(K)]}\n",
    "$$\n",
    "\n",
    "<br>\n",
    "\n",
    "- Put price cannot\n",
    "    + be more then the strike price\n",
    "    + be less than price implied by put-call parity using zero for\n",
    "      put price\n",
    "          \n",
    "$$\n",
    "K > P_{Amer}(S,K,T) \\ge P_{Eur}(S,K,T) \\ge \\max{[0, PV_{0,T}(K) - PV_{0,T}(F_{0,T})]}\n",
    "$$\n",
    "\n",
    "<br>"
   ]
  },
  {
   "cell_type": "markdown",
   "metadata": {
    "slideshow": {
     "slide_type": "subslide"
    }
   },
   "source": [
    "## Early Exercise for American Options\n",
    "\n",
    "- An American call option on a non-dividend-paying stock should\n",
    "  not be exercised early, because\n",
    "  \n",
    "$$\n",
    "C_{Amer} \\ge C_{Eur} \\ge S_{T} - K\n",
    "$$\n",
    "\n",
    "- That means, one would lose money by exercising early instead of\n",
    "  selling the option\n",
    "  \n",
    "- If there are dividends, it may be optimal to exercise early, just\n",
    "  prior to a dividend\n",
    "  \n",
    "- It may be optimal to exercise a non-dividend-paying put option early\n",
    "  if the underlying stock price is sufficiently low"
   ]
  },
  {
   "cell_type": "markdown",
   "metadata": {
    "slideshow": {
     "slide_type": "subslide"
    }
   },
   "source": [
    "## Time to Expiration\n",
    "\n",
    "- An American option (both put and call) with more time to expiration\n",
    "  is at least as valuable as an American option with less time to\n",
    "  expiration. This is because the longer option can easily be\n",
    "  converted into a shorter option by exercising it early\n",
    "  \n",
    "- A European call option on a non-dividend-paying stock will be more\n",
    "  valuable than an otherwise identical option with less time to \n",
    "  expiration\n",
    "  \n",
    "- European call options on dividend-paying stock and European puts\n",
    "  may be less valuable than an otherwise identical option with less\n",
    "  time to expiration\n",
    "  \n",
    "- When the strike price grows at the rate of interest, European\n",
    "  call and put prices on a non-dividend-paying stock increases\n",
    "  with time to maturity"
   ]
  },
  {
   "cell_type": "markdown",
   "metadata": {
    "slideshow": {
     "slide_type": "subslide"
    }
   },
   "source": [
    "## Different Strike Prices\n",
    "\n",
    "Different strike prices $(K_{1} < K_{2} < K_{3})$, for both European and American options\n",
    "\n",
    "\n",
    "- A call with a low strike price is at least as valuable as an\n",
    "  otherwise identical call with a higher strike price. $C(K_{1}) \\ge\n",
    "  C(K_{2})$\n",
    "  \n",
    "  \n",
    "- A put with a high strike price is at least as valuable as an \n",
    "  otherwise identical put with a lower strike price. $P(K_{2}) \\ge\n",
    "  P(K_{1})$\n",
    "  \n",
    "  \n",
    "- The premium difference between otherwise identical calls with \n",
    "  different strike prices cannot be greater than the difference\n",
    "  in strike prices. $C(K_{1}) - C(K_{2}) \\le K_{2} - K_{1}$\n",
    "  \n",
    "<br>"
   ]
  },
  {
   "cell_type": "markdown",
   "metadata": {
    "slideshow": {
     "slide_type": "subslide"
    }
   },
   "source": [
    "## Different Strike Prices Continued\n",
    "\n",
    "<br>\n",
    "\n",
    "Different strike prices $(K_{1} < K_{2} < K_{3})$, for both European and American options\n",
    "\n",
    "- The premium difference between otherwise identical puts with\n",
    "  different strike prices cannot be greater than the difference\n",
    "  in strike prices. $P(K_{1}) - P(K_{2}) \\le K_{2} - K_{1}$\n",
    "  \n",
    "  \n",
    "- Premiums decline at a decreasing rate for calls with progressively\n",
    "  higher strike prices. (Convexity of option price with respect\n",
    "  to strike price)\n",
    "  \n",
    "$$\n",
    "\\frac{C(K_{1}) - C(K_{2})}{K_{2} - K_{1}} \\le \\frac{C(K_{2}) - C(K_{3})}{K_{3} - K_{2}}\n",
    "$$\n",
    "\n",
    "<br>"
   ]
  }
 ],
 "metadata": {
  "celltoolbar": "Slideshow",
  "kernelspec": {
   "display_name": "Python 3",
   "language": "python",
   "name": "python3"
  },
  "language_info": {
   "codemirror_mode": {
    "name": "ipython",
    "version": 3
   },
   "file_extension": ".py",
   "mimetype": "text/x-python",
   "name": "python",
   "nbconvert_exporter": "python",
   "pygments_lexer": "ipython3",
   "version": "3.7.3"
  }
 },
 "nbformat": 4,
 "nbformat_minor": 2
}
