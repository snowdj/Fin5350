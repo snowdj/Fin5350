{
 "cells": [
  {
   "cell_type": "markdown",
   "metadata": {
    "slideshow": {
     "slide_type": "slide"
    }
   },
   "source": [
    "# __Put-Call Parity and Other Option Relationships__\n",
    "\n",
    "\n",
    "\n",
    "## Tyler J. Brough\n",
    "\n",
    "#### Finance 5350\n",
    "\n",
    "#### @broughtj\n",
    "\n",
    "#### https://github.com/broughtj\n",
    "\n",
    "#### https://broughtj.github.io/\n",
    "\n"
   ]
  },
  {
   "cell_type": "markdown",
   "metadata": {
    "slideshow": {
     "slide_type": "slide"
    }
   },
   "source": [
    "## IBM Options Quotes\n",
    "\n",
    "<br>\n",
    "\n",
    "\n",
    "<img src=\"images/Table9-1.png\" alt=\"Table9-1\" class=\"center\">"
   ]
  },
  {
   "cell_type": "markdown",
   "metadata": {
    "slideshow": {
     "slide_type": "slide"
    }
   },
   "source": [
    "## Put-Call Parity\n",
    "\n",
    "<br>\n",
    "\n",
    "* For European options with the same strike price and time to expiration the parity relationship is\n",
    "\n",
    "$$\n",
    "\\mbox{Call} - \\mbox{Put} = PV(\\mbox{forward price} - \\mbox{strike price})\n",
    "$$\n",
    "\n",
    "<br>\n",
    "\n",
    "$$\n",
    "C(K,T) - P(K,T) = PV_{0,T}(F_{0,T} - K) = e^{-rT} (F_{0,T} - K)\n",
    "$$\n",
    "\n",
    "\n",
    "* Intuition \n",
    "    - Buying a call and selling a put with the strike equal to the\n",
    "      forward price $(F_{0,T} = K)$ creates a synthetic forward\n",
    "      contract and hence must have a zero price"
   ]
  },
  {
   "cell_type": "markdown",
   "metadata": {
    "slideshow": {
     "slide_type": "subslide"
    }
   },
   "source": [
    "## Parity for Options on Stocks\n",
    "\n",
    "* If the underlying asset is a stock and $PV_{0,T}(Div)$ is the\n",
    "  present value of the dividends payable over the life of the\n",
    "  option, then $e^{-rT} F_{0,T} = S_{0} - PV_{0,T}(Div)$, therefore\n",
    "  \n",
    "$$\n",
    "C(K,T) = P(K,T) + [S_{0} - PV_{0,T}(Div)] - e^{-rT}(K)\n",
    "$$\n",
    "\n",
    "* Rewriting above\n",
    "\n",
    "$$\n",
    "S_{0} = C(K,T) - P(K,T) + PV_{0,T}(Div) + e^{-rT}(K)\n",
    "$$\n",
    "\n",
    "* For index options, $S_{0} - PV_{0,T}(Div) = S_{0}e^{-\\delta T}$, therefore\n",
    "\n",
    "$$\n",
    "C(K,T) = P(K,T) + S_{0}e^{-\\delta T} - PV_{0,T}(K)\n",
    "$$"
   ]
  },
  {
   "cell_type": "markdown",
   "metadata": {
    "slideshow": {
     "slide_type": "subslide"
    }
   },
   "source": [
    "## Parity for Options on Stocks Continued\n",
    "\n",
    "* Examples 9.1 & 9.2\n",
    "    - Price of a non-dividend-paying stock: $\\$40$, $r=8\\%$, option\n",
    "      strike price: $\\$40$, time to expiration: $3$ months, European\n",
    "      call: $\\$2.78$, European put: $\\$1.99$ $\\rightarrow$\n",
    "      $\\$2.78 = \\$1.99 + \\$40 - \\$40e^{-0.08 \\times 0.25}$\n",
    "      \n",
    "    - Additionally, if the stock pays $\\$5$ just before expiration,\n",
    "      call: $\\$0.74$, and put: $\\$4.85$. $\\rightarrow$\n",
    "      $\\$0.74 - \\$4.85 = (\\$40 - \\$5e^{-0.08 \\times 0.25}) - \n",
    "      \\$40e^{-0.08\\times 0.25}$\n",
    "<br>\n",
    "\n",
    "* Synthetic security creation using parity\n",
    "    - Synthetic stock: buy call, sell put, lend PV of strike and\n",
    "      dividends\n",
    "    - Synthetic T-bill: buy stock, sell call, buy put\n",
    "    - Synthetic call: buy stock, buy put, borrow PV of strike \n",
    "      and dividends\n",
    "    - Synthetic put: sell stock, buy call, lend PV of strike and\n",
    "      dividends"
   ]
  },
  {
   "cell_type": "markdown",
   "metadata": {
    "slideshow": {
     "slide_type": "slide"
    }
   },
   "source": [
    "## Properties of Option Prices\n",
    "\n",
    "\n",
    "* European versus American Options\n",
    "    - Since an American option can be exercised at anytime, whereas\n",
    "      a European option can only be exercised at expiration, an \n",
    "      American option must always be at least as valuable as an\n",
    "      otherwise identical European option\n",
    "      \n",
    "<br>\n",
    "\n",
    "$$\n",
    "\\begin{align}\n",
    "C_{Amer}(S,K,T) & \\ge C_{Eur}(S,K,T) \\\\\n",
    "P_{Amer}(S,K,T) & \\ge P_{Eur}(S,K,T) \n",
    "\\end{align}\n",
    "$$\n",
    "\n",
    "<br>\n",
    "<br>"
   ]
  },
  {
   "cell_type": "markdown",
   "metadata": {
    "slideshow": {
     "slide_type": "subslide"
    }
   },
   "source": [
    "## Properties of Option Prices Continued\n",
    "\n",
    "Maximum and Minimum Option Prices\n",
    "\n",
    "- Call price cannot\n",
    "    + be negative\n",
    "    + exceed stock price\n",
    "    + be less than price implied by put-call parity using zero \n",
    "      for put price: \n",
    "          \n",
    "$$\n",
    "S > C_{Amer}(S,K,T) \\ge C_{Eur}(S,K,T) \\ge \\max{[0, PV_{0,T}(F_{0,T}) - PV_{0,T}(K)]}\n",
    "$$\n",
    "\n",
    "<br>\n",
    "\n",
    "- Put price cannot\n",
    "    + be more then the strike price\n",
    "    + be less than price implied by put-call parity using zero for\n",
    "      put price\n",
    "          \n",
    "$$\n",
    "K > P_{Amer}(S,K,T) \\ge P_{Eur}(S,K,T) \\ge \\max{[0, PV_{0,T}(K) - PV_{0,T}(F_{0,T})]}\n",
    "$$"
   ]
  },
  {
   "cell_type": "markdown",
   "metadata": {
    "slideshow": {
     "slide_type": "subslide"
    }
   },
   "source": [
    "## Properties of Option Prices Continued\n",
    "\n",
    "Early exercise for American options\n",
    "\n",
    "- An American call option on a non-dividend-paying stock should\n",
    "  not be exercised early, because\n",
    "  \n",
    "$$\n",
    "C_{Amer} \\ge C_{Eur} \\ge S_{T} - K\n",
    "$$\n",
    "\n",
    "- That means, one would lose money by exercising early instead of\n",
    "  selling the option\n",
    "  \n",
    "- If there are dividends, it may be optimal to exercise early, just\n",
    "  prior to a dividend\n",
    "  \n",
    "- It may be optimal to exercise a non-dividend-paying put option early\n",
    "  if the underlying stock price is sufficiently low"
   ]
  },
  {
   "cell_type": "markdown",
   "metadata": {
    "slideshow": {
     "slide_type": "subslide"
    }
   },
   "source": [
    "## Properties of Option Prices Continued\n",
    "\n",
    "Time to Expiration\n",
    "\n",
    "- An American option (both put and call) with more time to expiration\n",
    "  is at least as valuable as an American option with less time to\n",
    "  expiration. This is because the longer option can easily be\n",
    "  converted into a shorter option by exercising it early\n",
    "  \n",
    "- A European call option on a non-dividend-paying stock will be more\n",
    "  valuable than an otherwise identical option with less time to \n",
    "  expiration\n",
    "  \n",
    "- European call options on dividend-paying stock and European puts\n",
    "  may be less valuable than an otherwise identical option with less\n",
    "  time to expiration\n",
    "  \n",
    "- When the strike price grows at the rate of interest, European\n",
    "  call and put prices on a non-dividend-paying stock increases\n",
    "  with time to maturity"
   ]
  },
  {
   "cell_type": "markdown",
   "metadata": {
    "slideshow": {
     "slide_type": "subslide"
    }
   },
   "source": [
    "## Properties of Option Prices Continued\n",
    "\n",
    "Different strike prices $(K_{1} < K_{2} < K_{3})$, for both European and American options\n",
    "\n",
    "\n",
    "- A call with a low strike price is at least as valuable as an\n",
    "  otherwise identical call with a higher strike price. $C(K_{1}) \\ge\n",
    "  C(K_{2})$\n",
    "  \n",
    "  \n",
    "- A put with a high strike price is at least as valuable as an \n",
    "  otherwise identical put with a lower strike price. $P(K_{2}) \\ge\n",
    "  P(K_{1})$\n",
    "  \n",
    "  \n",
    "- The premium difference between otherwise identical calls with \n",
    "  different strike prices cannot be greater than the difference\n",
    "  in strike prices. $C(K_{1}) - C(K_{2}) \\le K_{2} - K_{1}$"
   ]
  },
  {
   "cell_type": "markdown",
   "metadata": {
    "slideshow": {
     "slide_type": "subslide"
    }
   },
   "source": [
    "## Properties of Option Prices Continued\n",
    "\n",
    "Different strike prices $(K_{1} < K_{2} < K_{3})$, for both European and American options\n",
    "\n",
    "- The premium difference between otherwise identical puts with\n",
    "  different strike prices cannot be greater than the difference\n",
    "  in strike prices. $P(K_{1}) - P(K_{2}) \\le K_{2} - K_{1}$\n",
    "  \n",
    "  \n",
    "- Premiums decline at a decreasing rate for calls with progressively\n",
    "  higher strike prices. (Convexity of option price with respect\n",
    "  to strike price)\n",
    "  \n",
    "$$\n",
    "\\frac{C(K_{1}) - C(K_{2})}{K_{2} - K_{1}} \\le \\frac{C(K_{2}) - C(K_{3})}{K_{3} - K_{2}}\n",
    "$$"
   ]
  }
 ],
 "metadata": {
  "celltoolbar": "Slideshow",
  "kernelspec": {
   "display_name": "Python 3",
   "language": "python",
   "name": "python3"
  },
  "language_info": {
   "codemirror_mode": {
    "name": "ipython",
    "version": 3
   },
   "file_extension": ".py",
   "mimetype": "text/x-python",
   "name": "python",
   "nbconvert_exporter": "python",
   "pygments_lexer": "ipython3",
   "version": "3.7.3"
  }
 },
 "nbformat": 4,
 "nbformat_minor": 2
}
