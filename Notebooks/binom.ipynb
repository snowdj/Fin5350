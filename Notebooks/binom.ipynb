{
 "cells": [
  {
   "cell_type": "markdown",
   "metadata": {},
   "source": [
    "# Finance 5350 \n",
    "\n",
    "__Computational Financial Modeling__\n",
    "\n",
    "## Binomial Option Pricing Model\n",
    "\n",
    "<br>\n",
    "\n",
    "We can implement the Binomial Option Pricing Model in Python as follows. Let's start with specifing payoff functions for calls and puts. \n",
    "\n",
    "<br>\n",
    "\n",
    "Recall that the payoff for call option is:\n",
    "\n",
    "$$\n",
    "\\mbox{Call Payoff} = \\max{\\{S_{t} - K, 0.0 \\}}\n",
    "$$\n",
    "\n",
    "The put payoff is:\n",
    "\n",
    "$$\n",
    "\\mbox{Put Payoff} = \\max{\\{K - S_{t}, 0.0\\}}\n",
    "$$\n",
    "\n",
    "<br>\n",
    "\n",
    "We can implement these in code as follows."
   ]
  },
  {
   "cell_type": "code",
   "execution_count": 1,
   "metadata": {},
   "outputs": [],
   "source": [
    "## First import numpy\n",
    "import numpy as np\n",
    "\n",
    "## Call Payoff Function\n",
    "def callPayoff(spot, strike):\n",
    "    return np.maximum(spot - strike, 0.0)\n",
    "\n",
    "## Put Payoff Function\n",
    "def putPayoff(spot, strike):\n",
    "    return np.maximum(strike - spot, 0.0)\n"
   ]
  },
  {
   "cell_type": "markdown",
   "metadata": {},
   "source": [
    "Let's check these with $S = \\$100$ and $K_{1} = \\$95$ and $K_{2} = \\$105$"
   ]
  },
  {
   "cell_type": "code",
   "execution_count": 2,
   "metadata": {},
   "outputs": [
    {
     "data": {
      "text/plain": [
       "array([ 95., 105.])"
      ]
     },
     "execution_count": 2,
     "metadata": {},
     "output_type": "execute_result"
    }
   ],
   "source": [
    "spot = 100.0\n",
    "strikes = np.array([95.0, 105.0])\n",
    "strikes"
   ]
  },
  {
   "cell_type": "code",
   "execution_count": 3,
   "metadata": {},
   "outputs": [
    {
     "data": {
      "text/plain": [
       "array([5., 0.])"
      ]
     },
     "execution_count": 3,
     "metadata": {},
     "output_type": "execute_result"
    }
   ],
   "source": [
    "callPO = callPayoff(spot, strikes)\n",
    "callPO"
   ]
  },
  {
   "cell_type": "code",
   "execution_count": 4,
   "metadata": {},
   "outputs": [
    {
     "data": {
      "text/plain": [
       "array([0., 5.])"
      ]
     },
     "execution_count": 4,
     "metadata": {},
     "output_type": "execute_result"
    }
   ],
   "source": [
    "putPO = putPayoff(spot, strikes)\n",
    "putPO"
   ]
  },
  {
   "cell_type": "markdown",
   "metadata": {},
   "source": [
    "They seem to be working just fine!\n",
    "\n",
    "<br>\n",
    "\n",
    "- $r = 8\\%$\n",
    "- $\\sigma = 30\\%$\n",
    "- $T = 1$ year\n",
    "- $\\delta = 0.0$ (no dividends)\n",
    "- $n = 1$ (a single period)\n",
    "- $h = T/n = 1$\n",
    "\n",
    "Also recall that the formula for the parameters $u$ and $d$ are given by:\n",
    "\n",
    "$$\n",
    "\\begin{align}\n",
    "u &= e^{\\{(r - \\delta)h + \\sigma \\sqrt{h}\\}} \\\\\n",
    "d &= e^{\\{(r - \\delta)h - \\sigma \\sqrt{h}\\}} \n",
    "\\end{align}\n",
    "$$\n",
    "\n",
    "<br>\n",
    "\n",
    "These can be implemented in Python as follows:"
   ]
  },
  {
   "cell_type": "code",
   "execution_count": 5,
   "metadata": {},
   "outputs": [],
   "source": [
    "r = 0.08       ## time step \n",
    "v = 0.30       ## volatility\n",
    "q = 0.0        ## dividend\n",
    "expiry = 1.0\n",
    "n = 1.0        ## periods\n",
    "h = expiry / n \n",
    "S = 100.0      ## spot price\n",
    "K = 95.0       ## strike price\n",
    "\n",
    "u = np.exp((r - q) * h + v * np.sqrt(h))\n",
    "d = np.exp((r - q) * h - v * np.sqrt(h))"
   ]
  },
  {
   "cell_type": "code",
   "execution_count": 6,
   "metadata": {},
   "outputs": [
    {
     "name": "stdout",
     "output_type": "stream",
     "text": [
      "(1.4622845894342245, 0.8025187979624785)\n"
     ]
    }
   ],
   "source": [
    "print((u, d))"
   ]
  },
  {
   "cell_type": "markdown",
   "metadata": {},
   "source": [
    "### Implementing the Single Period Model\n",
    "\n",
    "Now we can implement the single period model in two ways. Recall that we could write the model in these two forms:\n",
    "\n",
    "__No-Arbitrage Form:__\n",
    "\n",
    "$$\n",
    "f_{0} = \\Delta S + B\n",
    "$$\n",
    "\n",
    "with \n",
    "\n",
    "$$\n",
    "\\Delta = \\frac{f_{u} - f_{d}}{S(u - d)}\n",
    "$$\n",
    "\n",
    "and\n",
    "\n",
    "$$\n",
    "B = e^{-r h}\\left[\\frac{u f_{d} - d f_{u}}{(u - d)}\\right]\n",
    "$$\n",
    "\n",
    "Where $f$ stands for either a call or put. Let's see this in action for a call option."
   ]
  },
  {
   "cell_type": "code",
   "execution_count": 7,
   "metadata": {},
   "outputs": [
    {
     "data": {
      "text/plain": [
       "20.124540120626122"
      ]
     },
     "execution_count": 7,
     "metadata": {},
     "output_type": "execute_result"
    }
   ],
   "source": [
    "fu = callPayoff(u * S, K)\n",
    "fd = callPayoff(d * S, K)\n",
    "D = (fu - fd)/(S * (u - d))                        ## Delta\n",
    "B = np.exp(-r * h) * ((u * fd - d * fu)/ (u - d))  ## B \n",
    "f = S * D + B\n",
    "f"
   ]
  },
  {
   "cell_type": "markdown",
   "metadata": {},
   "source": [
    "__Risk-Neutral Form__\n",
    "\n",
    "We saw that we could also put the single period model in risk-neutral form. There we only needed to define one additional parameter $p^{\\ast}$, which we do as follows:\n",
    "\n",
    "$$\n",
    "p^{\\ast} = \\frac{e^{(r - \\delta)h} - d}{u - d}\n",
    "$$\n",
    "\n",
    "<br>\n",
    "\n",
    "Then the single period model can also be written as:\n",
    "\n",
    "$$\n",
    "f_{0} = e^{-rh} \\left[(p^{\\ast}) f_{u} - (1 - p^{\\ast}) f_{d} \\right]\n",
    "$$\n",
    "\n",
    "<br>\n",
    "\n",
    "Which we implement in Python as follows:"
   ]
  },
  {
   "cell_type": "code",
   "execution_count": 12,
   "metadata": {},
   "outputs": [
    {
     "data": {
      "text/plain": [
       "0.4255574831883412"
      ]
     },
     "execution_count": 12,
     "metadata": {},
     "output_type": "execute_result"
    }
   ],
   "source": [
    "pstar = (np.exp((r - q) * h) - d) / (u - d)\n",
    "pstar"
   ]
  },
  {
   "cell_type": "code",
   "execution_count": 13,
   "metadata": {},
   "outputs": [
    {
     "data": {
      "text/plain": [
       "20.124540120626122"
      ]
     },
     "execution_count": 13,
     "metadata": {},
     "output_type": "execute_result"
    }
   ],
   "source": [
    "f = np.exp(-r * h) * (pstar * fu + (1 - pstar) * fd)\n",
    "f"
   ]
  },
  {
   "cell_type": "markdown",
   "metadata": {},
   "source": [
    "From this we can see that they are the exact same solution! Yeet!!!\n",
    "\n",
    "<br>\n",
    "\n",
    "But we're now experienced Python programmers. Instead of inline code, let's see if we can abstract this away into a function."
   ]
  },
  {
   "cell_type": "code",
   "execution_count": 10,
   "metadata": {},
   "outputs": [],
   "source": [
    "def singlePeriodBinomialModel(S, K, r, v, q, T, n, payoff):\n",
    "    h = T / n\n",
    "    u = np.exp((r - q) * h + v * np.sqrt(h))\n",
    "    d = np.exp((r - q) * h - v * np.sqrt(h))\n",
    "    pstar = (np.exp((r - q) * h) - d) / (u - d)\n",
    "    fu = payoff(u * S, K)\n",
    "    fd = payoff(d * S, K)\n",
    "    f = np.exp(-r * h) * (pstar * fu + (1 - pstar) * fd)\n",
    "    \n",
    "    return f\n",
    "    "
   ]
  },
  {
   "cell_type": "code",
   "execution_count": 11,
   "metadata": {},
   "outputs": [
    {
     "data": {
      "text/plain": [
       "20.124540120626122"
      ]
     },
     "execution_count": 11,
     "metadata": {},
     "output_type": "execute_result"
    }
   ],
   "source": [
    "callPrc = singlePeriodBinomialModel(S, K, r, v, q, expiry, n, callPayoff)\n",
    "callPrc"
   ]
  },
  {
   "cell_type": "markdown",
   "metadata": {},
   "source": [
    "Yeet!!!\n",
    "\n",
    "<br>\n",
    "\n",
    "Also, note that we can now also price the put for free! This is actually an example of polymorphism (which we'll return to). It is possible because functions are first-class objects in Python so we can pass functions to functions. "
   ]
  },
  {
   "cell_type": "code",
   "execution_count": 14,
   "metadata": {},
   "outputs": [
    {
     "data": {
      "text/plain": [
       "7.82059302735651"
      ]
     },
     "execution_count": 14,
     "metadata": {},
     "output_type": "execute_result"
    }
   ],
   "source": [
    "putPrc = singlePeriodBinomialModel(S, K, r, v, q, expiry, n, putPayoff)\n",
    "putPrc"
   ]
  },
  {
   "cell_type": "markdown",
   "metadata": {},
   "source": [
    "### The Multi-Period Binomial Model\n",
    "\n",
    "Well, great but the single period model is pretty simplistic. We don't think it is sufficient for pricing actual real-world options. It's just a toy model. Recall that we used backward induction to solve recursively for the option price in a multi-period model applying at each set of nodes the single period model. So we can build on the single period model to solve for the option price in a more complex model. How can we implement this in Python code? Let's start by recalling our simplification for European options. \n",
    "\n",
    "<br>\n",
    "\n",
    "Let's start with a two-period model ($n = 2$). The terminal prices on the last nodes of the tree are given as follows:\n",
    "\n",
    "- $uuS$\n",
    "- $udS = duS$\n",
    "- $ddS$\n",
    "\n",
    "Using the way of thinking embedded in the risk-neutral form of the single period model we can write the option premium as:\n",
    "\n",
    "$$\n",
    "f_{0} = e^{-r T} \\left[p_{uu} f_{uu} + p_{ud} f_{ud} + p_{dd} f_{dd} \\right]\n",
    "$$\n",
    "\n",
    "Assuming we could know the risk-neutral probabilities $p_{uu}, p_{ud}, p_{dd}$. \n",
    "\n",
    "<br>\n",
    "\n",
    "Let's start by seeing how to get the terminal prices on the last set up nodes (to which we can apply a payoff function). We can achieve this pretty simply with the following and using a NumPy array:"
   ]
  },
  {
   "cell_type": "code",
   "execution_count": 15,
   "metadata": {},
   "outputs": [],
   "source": [
    "S = 100.0\n",
    "K = 95.0\n",
    "r = 0.08\n",
    "v = 0.30\n",
    "q = 0.0\n",
    "T = 1\n",
    "n = 2\n",
    "h = T / n\n",
    "u = np.exp((r - q) * h + v * np.sqrt(h))\n",
    "d = np.exp((r - q) * h - v * np.sqrt(h))\n",
    "pstar = (np.exp((r - q) * h) - d) / (u - d) "
   ]
  },
  {
   "cell_type": "code",
   "execution_count": 17,
   "metadata": {},
   "outputs": [
    {
     "data": {
      "text/plain": [
       "array([0., 0., 0.])"
      ]
     },
     "execution_count": 17,
     "metadata": {},
     "output_type": "execute_result"
    }
   ],
   "source": [
    "nodes = n + 1\n",
    "spotT = np.zeros((nodes, ))\n",
    "spotT"
   ]
  },
  {
   "cell_type": "markdown",
   "metadata": {},
   "source": [
    "Now we've got space to store the values. Let's fill the slots in with the correct values for the terminal spot prices at the nodes with a simpel for loop construct (starting at the bottom node and working up):"
   ]
  },
  {
   "cell_type": "code",
   "execution_count": 18,
   "metadata": {},
   "outputs": [
    {
     "data": {
      "text/plain": [
       "array([ 70.87417468, 108.32870677, 165.57665416])"
      ]
     },
     "execution_count": 18,
     "metadata": {},
     "output_type": "execute_result"
    }
   ],
   "source": [
    "for i in range(nodes): \n",
    "    spotT[i] = S * (u ** (i)) * (d ** (n - i))\n",
    "spotT"
   ]
  },
  {
   "cell_type": "markdown",
   "metadata": {},
   "source": [
    "We can spot check these:"
   ]
  },
  {
   "cell_type": "code",
   "execution_count": 19,
   "metadata": {},
   "outputs": [
    {
     "data": {
      "text/plain": [
       "70.87417468160731"
      ]
     },
     "execution_count": 19,
     "metadata": {},
     "output_type": "execute_result"
    }
   ],
   "source": [
    "d * d * S"
   ]
  },
  {
   "cell_type": "code",
   "execution_count": 20,
   "metadata": {},
   "outputs": [
    {
     "data": {
      "text/plain": [
       "108.32870676749585"
      ]
     },
     "execution_count": 20,
     "metadata": {},
     "output_type": "execute_result"
    }
   ],
   "source": [
    "u * d * S"
   ]
  },
  {
   "cell_type": "code",
   "execution_count": 21,
   "metadata": {},
   "outputs": [
    {
     "data": {
      "text/plain": [
       "165.5766541569831"
      ]
     },
     "execution_count": 21,
     "metadata": {},
     "output_type": "execute_result"
    }
   ],
   "source": [
    "u * u * S"
   ]
  },
  {
   "cell_type": "markdown",
   "metadata": {},
   "source": [
    "Yeet. Now all we need are the probabilities to go with the terminal prices."
   ]
  },
  {
   "cell_type": "markdown",
   "metadata": {},
   "source": [
    "#### The Binomial Probability Mass Function\n",
    "\n",
    "The Binomial Distribution Function is given as follows:\n",
    "\n",
    "$$\n",
    "p(i) = \\binom{n}{i} \\theta^{i} (1 - \\theta)^{n - i}\n",
    "$$\n",
    "\n",
    "where \n",
    "\n",
    "$$\n",
    "\\binom{n}{i} = \\frac{n!}{i! (n - i)!}\n",
    "$$\n",
    "\n",
    "and \n",
    "\n",
    "- $\\theta$ is the probability of _success_ (an up move on the tree)\n",
    "- $i$ is the number of successes in $n$ periods ($i$ is also the index variable in our for loop)\n",
    "\n",
    "<br>\n",
    "\n",
    "So if we set $\\theta = p^{\\ast} = \\frac{e^{(r - \\delta)h} - d}{u - d}$, then we can treat the binomial distribution as our risk-neutral distribution. We can then get the corresponding risk-neutral probabilities for the terminal nodes as follows (starting at the top of the tree and working down):\n",
    "\n",
    "- $p(i = 2) = (1) (p^{\\ast})^{2} (1 - p^{\\ast})^{0} = (p^{\\ast})^{2}$\n",
    "- $p(i = 1) = (2) (p^{\\ast})^{1} (1 - p^{\\ast})^{1} = 2 (p^{\\ast})(1 - p^{\\ast})$\n",
    "- $p(i = 0) = (1) (p^{\\ast})^{0} (1 - p^{\\ast})^{2} = (1 - p^{\\ast})^{2}$\n",
    "\n",
    "<br>\n",
    "\n",
    "The binomial pmf is available from the `Scipy` module. We can import it with the following:"
   ]
  },
  {
   "cell_type": "code",
   "execution_count": 22,
   "metadata": {},
   "outputs": [],
   "source": [
    "from scipy.stats import binom"
   ]
  },
  {
   "cell_type": "markdown",
   "metadata": {},
   "source": [
    "The PMF is available as a method:"
   ]
  },
  {
   "cell_type": "code",
   "execution_count": 23,
   "metadata": {},
   "outputs": [
    {
     "data": {
      "text/plain": [
       "\u001b[0;31mSignature:\u001b[0m \u001b[0mbinom\u001b[0m\u001b[0;34m.\u001b[0m\u001b[0mpmf\u001b[0m\u001b[0;34m(\u001b[0m\u001b[0mk\u001b[0m\u001b[0;34m,\u001b[0m \u001b[0;34m*\u001b[0m\u001b[0margs\u001b[0m\u001b[0;34m,\u001b[0m \u001b[0;34m**\u001b[0m\u001b[0mkwds\u001b[0m\u001b[0;34m)\u001b[0m\u001b[0;34m\u001b[0m\u001b[0m\n",
       "\u001b[0;31mSource:\u001b[0m   \n",
       "    \u001b[0;32mdef\u001b[0m \u001b[0mpmf\u001b[0m\u001b[0;34m(\u001b[0m\u001b[0mself\u001b[0m\u001b[0;34m,\u001b[0m \u001b[0mk\u001b[0m\u001b[0;34m,\u001b[0m \u001b[0;34m*\u001b[0m\u001b[0margs\u001b[0m\u001b[0;34m,\u001b[0m \u001b[0;34m**\u001b[0m\u001b[0mkwds\u001b[0m\u001b[0;34m)\u001b[0m\u001b[0;34m:\u001b[0m\u001b[0;34m\u001b[0m\n",
       "\u001b[0;34m\u001b[0m        \u001b[0;34m\"\"\"\u001b[0m\n",
       "\u001b[0;34m        Probability mass function at k of the given RV.\u001b[0m\n",
       "\u001b[0;34m\u001b[0m\n",
       "\u001b[0;34m        Parameters\u001b[0m\n",
       "\u001b[0;34m        ----------\u001b[0m\n",
       "\u001b[0;34m        k : array_like\u001b[0m\n",
       "\u001b[0;34m            Quantiles.\u001b[0m\n",
       "\u001b[0;34m        arg1, arg2, arg3,... : array_like\u001b[0m\n",
       "\u001b[0;34m            The shape parameter(s) for the distribution (see docstring of the\u001b[0m\n",
       "\u001b[0;34m            instance object for more information)\u001b[0m\n",
       "\u001b[0;34m        loc : array_like, optional\u001b[0m\n",
       "\u001b[0;34m            Location parameter (default=0).\u001b[0m\n",
       "\u001b[0;34m\u001b[0m\n",
       "\u001b[0;34m        Returns\u001b[0m\n",
       "\u001b[0;34m        -------\u001b[0m\n",
       "\u001b[0;34m        pmf : array_like\u001b[0m\n",
       "\u001b[0;34m            Probability mass function evaluated at k\u001b[0m\n",
       "\u001b[0;34m\u001b[0m\n",
       "\u001b[0;34m        \"\"\"\u001b[0m\u001b[0;34m\u001b[0m\n",
       "\u001b[0;34m\u001b[0m        \u001b[0margs\u001b[0m\u001b[0;34m,\u001b[0m \u001b[0mloc\u001b[0m\u001b[0;34m,\u001b[0m \u001b[0m_\u001b[0m \u001b[0;34m=\u001b[0m \u001b[0mself\u001b[0m\u001b[0;34m.\u001b[0m\u001b[0m_parse_args\u001b[0m\u001b[0;34m(\u001b[0m\u001b[0;34m*\u001b[0m\u001b[0margs\u001b[0m\u001b[0;34m,\u001b[0m \u001b[0;34m**\u001b[0m\u001b[0mkwds\u001b[0m\u001b[0;34m)\u001b[0m\u001b[0;34m\u001b[0m\n",
       "\u001b[0;34m\u001b[0m        \u001b[0mk\u001b[0m\u001b[0;34m,\u001b[0m \u001b[0mloc\u001b[0m \u001b[0;34m=\u001b[0m \u001b[0mmap\u001b[0m\u001b[0;34m(\u001b[0m\u001b[0masarray\u001b[0m\u001b[0;34m,\u001b[0m \u001b[0;34m(\u001b[0m\u001b[0mk\u001b[0m\u001b[0;34m,\u001b[0m \u001b[0mloc\u001b[0m\u001b[0;34m)\u001b[0m\u001b[0;34m)\u001b[0m\u001b[0;34m\u001b[0m\n",
       "\u001b[0;34m\u001b[0m        \u001b[0margs\u001b[0m \u001b[0;34m=\u001b[0m \u001b[0mtuple\u001b[0m\u001b[0;34m(\u001b[0m\u001b[0mmap\u001b[0m\u001b[0;34m(\u001b[0m\u001b[0masarray\u001b[0m\u001b[0;34m,\u001b[0m \u001b[0margs\u001b[0m\u001b[0;34m)\u001b[0m\u001b[0;34m)\u001b[0m\u001b[0;34m\u001b[0m\n",
       "\u001b[0;34m\u001b[0m        \u001b[0mk\u001b[0m \u001b[0;34m=\u001b[0m \u001b[0masarray\u001b[0m\u001b[0;34m(\u001b[0m\u001b[0;34m(\u001b[0m\u001b[0mk\u001b[0m\u001b[0;34m-\u001b[0m\u001b[0mloc\u001b[0m\u001b[0;34m)\u001b[0m\u001b[0;34m)\u001b[0m\u001b[0;34m\u001b[0m\n",
       "\u001b[0;34m\u001b[0m        \u001b[0mcond0\u001b[0m \u001b[0;34m=\u001b[0m \u001b[0mself\u001b[0m\u001b[0;34m.\u001b[0m\u001b[0m_argcheck\u001b[0m\u001b[0;34m(\u001b[0m\u001b[0;34m*\u001b[0m\u001b[0margs\u001b[0m\u001b[0;34m)\u001b[0m\u001b[0;34m\u001b[0m\n",
       "\u001b[0;34m\u001b[0m        \u001b[0mcond1\u001b[0m \u001b[0;34m=\u001b[0m \u001b[0;34m(\u001b[0m\u001b[0mk\u001b[0m \u001b[0;34m>=\u001b[0m \u001b[0mself\u001b[0m\u001b[0;34m.\u001b[0m\u001b[0ma\u001b[0m\u001b[0;34m)\u001b[0m \u001b[0;34m&\u001b[0m \u001b[0;34m(\u001b[0m\u001b[0mk\u001b[0m \u001b[0;34m<=\u001b[0m \u001b[0mself\u001b[0m\u001b[0;34m.\u001b[0m\u001b[0mb\u001b[0m\u001b[0;34m)\u001b[0m \u001b[0;34m&\u001b[0m \u001b[0mself\u001b[0m\u001b[0;34m.\u001b[0m\u001b[0m_nonzero\u001b[0m\u001b[0;34m(\u001b[0m\u001b[0mk\u001b[0m\u001b[0;34m,\u001b[0m \u001b[0;34m*\u001b[0m\u001b[0margs\u001b[0m\u001b[0;34m)\u001b[0m\u001b[0;34m\u001b[0m\n",
       "\u001b[0;34m\u001b[0m        \u001b[0mcond\u001b[0m \u001b[0;34m=\u001b[0m \u001b[0mcond0\u001b[0m \u001b[0;34m&\u001b[0m \u001b[0mcond1\u001b[0m\u001b[0;34m\u001b[0m\n",
       "\u001b[0;34m\u001b[0m        \u001b[0moutput\u001b[0m \u001b[0;34m=\u001b[0m \u001b[0mzeros\u001b[0m\u001b[0;34m(\u001b[0m\u001b[0mshape\u001b[0m\u001b[0;34m(\u001b[0m\u001b[0mcond\u001b[0m\u001b[0;34m)\u001b[0m\u001b[0;34m,\u001b[0m \u001b[0;34m'd'\u001b[0m\u001b[0;34m)\u001b[0m\u001b[0;34m\u001b[0m\n",
       "\u001b[0;34m\u001b[0m        \u001b[0mplace\u001b[0m\u001b[0;34m(\u001b[0m\u001b[0moutput\u001b[0m\u001b[0;34m,\u001b[0m \u001b[0;34m(\u001b[0m\u001b[0;36m1\u001b[0m\u001b[0;34m-\u001b[0m\u001b[0mcond0\u001b[0m\u001b[0;34m)\u001b[0m \u001b[0;34m+\u001b[0m \u001b[0mnp\u001b[0m\u001b[0;34m.\u001b[0m\u001b[0misnan\u001b[0m\u001b[0;34m(\u001b[0m\u001b[0mk\u001b[0m\u001b[0;34m)\u001b[0m\u001b[0;34m,\u001b[0m \u001b[0mself\u001b[0m\u001b[0;34m.\u001b[0m\u001b[0mbadvalue\u001b[0m\u001b[0;34m)\u001b[0m\u001b[0;34m\u001b[0m\n",
       "\u001b[0;34m\u001b[0m        \u001b[0;32mif\u001b[0m \u001b[0mnp\u001b[0m\u001b[0;34m.\u001b[0m\u001b[0many\u001b[0m\u001b[0;34m(\u001b[0m\u001b[0mcond\u001b[0m\u001b[0;34m)\u001b[0m\u001b[0;34m:\u001b[0m\u001b[0;34m\u001b[0m\n",
       "\u001b[0;34m\u001b[0m            \u001b[0mgoodargs\u001b[0m \u001b[0;34m=\u001b[0m \u001b[0margsreduce\u001b[0m\u001b[0;34m(\u001b[0m\u001b[0mcond\u001b[0m\u001b[0;34m,\u001b[0m \u001b[0;34m*\u001b[0m\u001b[0;34m(\u001b[0m\u001b[0;34m(\u001b[0m\u001b[0mk\u001b[0m\u001b[0;34m,\u001b[0m\u001b[0;34m)\u001b[0m\u001b[0;34m+\u001b[0m\u001b[0margs\u001b[0m\u001b[0;34m)\u001b[0m\u001b[0;34m)\u001b[0m\u001b[0;34m\u001b[0m\n",
       "\u001b[0;34m\u001b[0m            \u001b[0mplace\u001b[0m\u001b[0;34m(\u001b[0m\u001b[0moutput\u001b[0m\u001b[0;34m,\u001b[0m \u001b[0mcond\u001b[0m\u001b[0;34m,\u001b[0m \u001b[0mnp\u001b[0m\u001b[0;34m.\u001b[0m\u001b[0mclip\u001b[0m\u001b[0;34m(\u001b[0m\u001b[0mself\u001b[0m\u001b[0;34m.\u001b[0m\u001b[0m_pmf\u001b[0m\u001b[0;34m(\u001b[0m\u001b[0;34m*\u001b[0m\u001b[0mgoodargs\u001b[0m\u001b[0;34m)\u001b[0m\u001b[0;34m,\u001b[0m \u001b[0;36m0\u001b[0m\u001b[0;34m,\u001b[0m \u001b[0;36m1\u001b[0m\u001b[0;34m)\u001b[0m\u001b[0;34m)\u001b[0m\u001b[0;34m\u001b[0m\n",
       "\u001b[0;34m\u001b[0m        \u001b[0;32mif\u001b[0m \u001b[0moutput\u001b[0m\u001b[0;34m.\u001b[0m\u001b[0mndim\u001b[0m \u001b[0;34m==\u001b[0m \u001b[0;36m0\u001b[0m\u001b[0;34m:\u001b[0m\u001b[0;34m\u001b[0m\n",
       "\u001b[0;34m\u001b[0m            \u001b[0;32mreturn\u001b[0m \u001b[0moutput\u001b[0m\u001b[0;34m[\u001b[0m\u001b[0;34m(\u001b[0m\u001b[0;34m)\u001b[0m\u001b[0;34m]\u001b[0m\u001b[0;34m\u001b[0m\n",
       "\u001b[0;34m\u001b[0m        \u001b[0;32mreturn\u001b[0m \u001b[0moutput\u001b[0m\u001b[0;34m\u001b[0m\u001b[0m\n",
       "\u001b[0;31mFile:\u001b[0m      ~/anaconda3/lib/python3.6/site-packages/scipy/stats/_distn_infrastructure.py\n",
       "\u001b[0;31mType:\u001b[0m      method\n"
      ]
     },
     "metadata": {},
     "output_type": "display_data"
    }
   ],
   "source": [
    "binom.pmf??"
   ]
  },
  {
   "cell_type": "code",
   "execution_count": 24,
   "metadata": {},
   "outputs": [
    {
     "data": {
      "text/plain": [
       "0.19995651425667552"
      ]
     },
     "execution_count": 24,
     "metadata": {},
     "output_type": "execute_result"
    }
   ],
   "source": [
    "binom.pmf(2, n, pstar)"
   ]
  },
  {
   "cell_type": "code",
   "execution_count": 25,
   "metadata": {},
   "outputs": [
    {
     "data": {
      "text/plain": [
       "0.19995651425667552"
      ]
     },
     "execution_count": 25,
     "metadata": {},
     "output_type": "execute_result"
    }
   ],
   "source": [
    "pstar * pstar"
   ]
  },
  {
   "cell_type": "code",
   "execution_count": 26,
   "metadata": {},
   "outputs": [
    {
     "data": {
      "text/plain": [
       "0.49441692012233124"
      ]
     },
     "execution_count": 26,
     "metadata": {},
     "output_type": "execute_result"
    }
   ],
   "source": [
    "binom.pmf(1, n, pstar)"
   ]
  },
  {
   "cell_type": "code",
   "execution_count": 27,
   "metadata": {},
   "outputs": [
    {
     "data": {
      "text/plain": [
       "0.4944169201223312"
      ]
     },
     "execution_count": 27,
     "metadata": {},
     "output_type": "execute_result"
    }
   ],
   "source": [
    "2 * pstar * (1 - pstar)"
   ]
  },
  {
   "cell_type": "code",
   "execution_count": 28,
   "metadata": {},
   "outputs": [
    {
     "data": {
      "text/plain": [
       "0.3056265656209933"
      ]
     },
     "execution_count": 28,
     "metadata": {},
     "output_type": "execute_result"
    }
   ],
   "source": [
    "binom.pmf(0, n, pstar)"
   ]
  },
  {
   "cell_type": "code",
   "execution_count": 29,
   "metadata": {},
   "outputs": [
    {
     "data": {
      "text/plain": [
       "0.3056265656209932"
      ]
     },
     "execution_count": 29,
     "metadata": {},
     "output_type": "execute_result"
    }
   ],
   "source": [
    "(1 - pstar) ** 2"
   ]
  },
  {
   "cell_type": "markdown",
   "metadata": {},
   "source": [
    "You guessed it: YEET!! Now let's add this to our code. Again, starting at the bottom and moving up."
   ]
  },
  {
   "cell_type": "code",
   "execution_count": 30,
   "metadata": {},
   "outputs": [
    {
     "data": {
      "text/plain": [
       "array([0.30562657, 0.49441692, 0.19995651])"
      ]
     },
     "execution_count": 30,
     "metadata": {},
     "output_type": "execute_result"
    }
   ],
   "source": [
    "probs = np.zeros((nodes, ))\n",
    "for i in range(nodes):\n",
    "    probs[i] = binom.pmf(i, n, pstar)\n",
    "probs"
   ]
  },
  {
   "cell_type": "code",
   "execution_count": 31,
   "metadata": {},
   "outputs": [
    {
     "data": {
      "text/plain": [
       "array([ 70.87417468, 108.32870677, 165.57665416])"
      ]
     },
     "execution_count": 31,
     "metadata": {},
     "output_type": "execute_result"
    }
   ],
   "source": [
    "spotT"
   ]
  },
  {
   "cell_type": "markdown",
   "metadata": {},
   "source": [
    "We've now got an array with terminal prices and an array with terminal probabilities. Let's get option payoffs and take the dot product."
   ]
  },
  {
   "cell_type": "code",
   "execution_count": 32,
   "metadata": {},
   "outputs": [
    {
     "data": {
      "text/plain": [
       "array([ 0.        , 13.32870677, 70.57665416])"
      ]
     },
     "execution_count": 32,
     "metadata": {},
     "output_type": "execute_result"
    }
   ],
   "source": [
    "callT = callPayoff(spotT, K)\n",
    "callT"
   ]
  },
  {
   "cell_type": "code",
   "execution_count": 34,
   "metadata": {},
   "outputs": [
    {
     "data": {
      "text/plain": [
       "20.702199902328218"
      ]
     },
     "execution_count": 34,
     "metadata": {},
     "output_type": "execute_result"
    }
   ],
   "source": [
    "np.sum(callT * probs)"
   ]
  },
  {
   "cell_type": "markdown",
   "metadata": {},
   "source": [
    "Now we just need a present value."
   ]
  },
  {
   "cell_type": "code",
   "execution_count": 35,
   "metadata": {},
   "outputs": [
    {
     "data": {
      "text/plain": [
       "19.11053913600299"
      ]
     },
     "execution_count": 35,
     "metadata": {},
     "output_type": "execute_result"
    }
   ],
   "source": [
    "callPrc = np.exp(-r * expiry) * np.dot(callT, probs)\n",
    "callPrc"
   ]
  },
  {
   "cell_type": "markdown",
   "metadata": {},
   "source": [
    "It's different because we're now using two periods instead of just a single period. \n",
    "\n",
    "<br>\n",
    "\n",
    "Let's put this in a function."
   ]
  },
  {
   "cell_type": "code",
   "execution_count": 37,
   "metadata": {},
   "outputs": [],
   "source": [
    "\n",
    "    "
   ]
  },
  {
   "cell_type": "code",
   "execution_count": null,
   "metadata": {},
   "outputs": [],
   "source": [
    "def binomialPricer(S, K, r, v, q, T, n, payoff, verbose = True):\n",
    "    nodes = n  + 1\n",
    "    h = T / n\n",
    "    u = np.exp((r - q) * h + v * np.sqrt(h))\n",
    "    d = np.exp((r - q) * h - v * np.sqrt(h))\n",
    "    pstar = (np.exp((r - q) * h) - d) / (u - d)\n",
    "    \n",
    "    price = 0.0\n",
    "    \n",
    "    for i in range(nodes):\n",
    "        prob = binom.pmf(i, n, pstar)\n",
    "        spotT = S * (u ** i) * (d ** (n - i))\n",
    "        po = payoff(spotT, K) \n",
    "        price += po * prob\n",
    "        if verbose:\n",
    "            print(f\"({spotT:0.4f}, {po:0.4f}, {prob:0.4f})\")\n",
    "        \n",
    "    price *= np.exp(-r * T)\n",
    "    \n",
    "    return price"
   ]
  },
  {
   "cell_type": "code",
   "execution_count": 38,
   "metadata": {},
   "outputs": [
    {
     "name": "stdout",
     "output_type": "stream",
     "text": [
      "(70.8742, 0.0000, 0.3056)\n",
      "(108.3287, 13.3287, 0.4944)\n",
      "(165.5767, 70.5767, 0.2000)\n"
     ]
    },
    {
     "data": {
      "text/plain": [
       "19.11053913600299"
      ]
     },
     "execution_count": 38,
     "metadata": {},
     "output_type": "execute_result"
    }
   ],
   "source": [
    "binomialPricer(S, K, r, v, q, expiry, n, callPayoff)"
   ]
  },
  {
   "cell_type": "code",
   "execution_count": 40,
   "metadata": {},
   "outputs": [
    {
     "name": "stdout",
     "output_type": "stream",
     "text": [
      "(70.8742, 24.1258, 0.3056)\n",
      "(108.3287, 0.0000, 0.4944)\n",
      "(165.5767, 0.0000, 0.2000)\n"
     ]
    },
    {
     "data": {
      "text/plain": [
       "6.806592042733392"
      ]
     },
     "execution_count": 40,
     "metadata": {},
     "output_type": "execute_result"
    }
   ],
   "source": [
    "n = 2\n",
    "binomialPricer(S, K, r, v, q, expiry, n, putPayoff)"
   ]
  },
  {
   "cell_type": "markdown",
   "metadata": {},
   "source": [
    "We can now set $n$ arbitrarily large! But let's start with $n = 3$"
   ]
  },
  {
   "cell_type": "code",
   "execution_count": 41,
   "metadata": {},
   "outputs": [],
   "source": [
    "n = 3"
   ]
  },
  {
   "cell_type": "code",
   "execution_count": 42,
   "metadata": {},
   "outputs": [
    {
     "name": "stdout",
     "output_type": "stream",
     "text": [
      "(64.4284, 0.0000, 0.1603)\n",
      "(91.1007, 0.0000, 0.4044)\n",
      "(128.8147, 33.8147, 0.3400)\n",
      "(182.1418, 87.1418, 0.0953)\n"
     ]
    },
    {
     "data": {
      "text/plain": [
       "18.282552207370557"
      ]
     },
     "execution_count": 42,
     "metadata": {},
     "output_type": "execute_result"
    }
   ],
   "source": [
    "binomialPricer(S, K, r, v, q, expiry, n, callPayoff)"
   ]
  },
  {
   "cell_type": "code",
   "execution_count": 43,
   "metadata": {},
   "outputs": [
    {
     "name": "stdout",
     "output_type": "stream",
     "text": [
      "(64.4284, 30.5716, 0.1603)\n",
      "(91.1007, 3.8993, 0.4044)\n",
      "(128.8147, 0.0000, 0.3400)\n",
      "(182.1418, 0.0000, 0.0953)\n"
     ]
    },
    {
     "data": {
      "text/plain": [
       "5.9786051141009695"
      ]
     },
     "execution_count": 43,
     "metadata": {},
     "output_type": "execute_result"
    }
   ],
   "source": [
    "binomialPricer(S, K, r, v, q, expiry, n, putPayoff)"
   ]
  },
  {
   "cell_type": "markdown",
   "metadata": {},
   "source": [
    "Now really big!"
   ]
  },
  {
   "cell_type": "code",
   "execution_count": 45,
   "metadata": {},
   "outputs": [
    {
     "name": "stdout",
     "output_type": "stream",
     "text": [
      "The Call Price is: 18.3856\n"
     ]
    }
   ],
   "source": [
    "n = 500\n",
    "callPrc = binomialPricer(S, K, r, v, q, expiry, n, callPayoff, verbose=False)\n",
    "print(f\"The Call Price is: {callPrc:0.4f}\")"
   ]
  },
  {
   "cell_type": "code",
   "execution_count": 46,
   "metadata": {},
   "outputs": [
    {
     "name": "stdout",
     "output_type": "stream",
     "text": [
      "The Put Price is: 6.0816\n"
     ]
    }
   ],
   "source": [
    "putPrc = binomialPricer(S, K, r, v, q, expiry, n, putPayoff, verbose=False)\n",
    "print(f\"The Put Price is: {putPrc:0.4f}\")"
   ]
  },
  {
   "cell_type": "code",
   "execution_count": 49,
   "metadata": {},
   "outputs": [],
   "source": [
    "## Compare to Examples 12.1 and 12.2 in McDonald Chapter 12\n",
    "\n",
    "S = 41.0\n",
    "K = 40.0\n",
    "r = 0.08\n",
    "v = 0.3\n",
    "q = 0.0\n",
    "T = 0.25"
   ]
  },
  {
   "cell_type": "code",
   "execution_count": 51,
   "metadata": {},
   "outputs": [
    {
     "name": "stdout",
     "output_type": "stream",
     "text": [
      "The Call Premium is: 3.8982\n",
      "The Call Premium is: 3.4676\n",
      "The Call Premium is: 3.4976\n",
      "The Call Premium is: 3.4848\n",
      "The Call Premium is: 3.4153\n",
      "The Call Premium is: 3.4755\n",
      "The Call Premium is: 3.3802\n",
      "The Call Premium is: 3.4644\n",
      "The Call Premium is: 3.3608\n",
      "The Call Premium is: 3.4544\n",
      "The Call Premium is: 3.3485\n",
      "The Call Premium is: 3.4458\n",
      "The Call Premium is: 3.3659\n",
      "The Call Premium is: 3.4384\n",
      "The Call Premium is: 3.3806\n",
      "The Call Premium is: 3.4320\n",
      "The Call Premium is: 3.3907\n",
      "The Call Premium is: 3.4263\n",
      "The Call Premium is: 3.3977\n",
      "The Call Premium is: 3.4213\n"
     ]
    }
   ],
   "source": [
    "for n in range(1, 21):\n",
    "    callPrc = binomialPricer(S, K, r, v, q, T, n, callPayoff, verbose=False)\n",
    "    print(f\"The Call Premium is: {callPrc:0.4f}\")"
   ]
  },
  {
   "cell_type": "code",
   "execution_count": 55,
   "metadata": {},
   "outputs": [
    {
     "data": {
      "text/plain": [
       "3.3990613316590794"
      ]
     },
     "execution_count": 55,
     "metadata": {},
     "output_type": "execute_result"
    }
   ],
   "source": [
    "n = 10000\n",
    "callPrc = binomialPricer(S, K, r, v, q, T, n, callPayoff, verbose=False)\n",
    "callPrc"
   ]
  },
  {
   "cell_type": "code",
   "execution_count": 57,
   "metadata": {},
   "outputs": [
    {
     "data": {
      "text/plain": [
       "1.6070082639258576"
      ]
     },
     "execution_count": 57,
     "metadata": {},
     "output_type": "execute_result"
    }
   ],
   "source": [
    "putPrc = binomialPricer(S, K, r, v, q, T, n, putPayoff, verbose=False)\n",
    "putPrc"
   ]
  },
  {
   "cell_type": "code",
   "execution_count": 58,
   "metadata": {},
   "outputs": [],
   "source": [
    "def binomialPricer(S, K, r, v, q, T, n, payoff):\n",
    "    nodes = n  + 1\n",
    "    h = T / n\n",
    "    u = np.exp((r - q) * h + v * np.sqrt(h))\n",
    "    d = np.exp((r - q) * h - v * np.sqrt(h))\n",
    "    pstar = (np.exp((r - q) * h) - d) / (u - d)\n",
    "    \n",
    "    price = 0.0\n",
    "    \n",
    "    spotT = np.empty((nodes, ))\n",
    "    po = np.empty((nodes, ))\n",
    "    prob = np.empty((nodes,))\n",
    "    \n",
    "    for i in range(nodes):\n",
    "        prob[i] = binom.pmf(i, n, pstar)\n",
    "        spotT[i] = S * (u ** i) * (d ** (n - i))\n",
    "        po[i] = payoff(spotT, K) \n",
    "          \n",
    "    price = np.exp(-r * T) * np.dot(po, prob)\n",
    "    \n",
    "    return price"
   ]
  },
  {
   "cell_type": "code",
   "execution_count": 59,
   "metadata": {},
   "outputs": [
    {
     "data": {
      "text/plain": [
       "0.9231163463866358"
      ]
     },
     "execution_count": 59,
     "metadata": {},
     "output_type": "execute_result"
    }
   ],
   "source": [
    "np.exp(-0.08)"
   ]
  },
  {
   "cell_type": "code",
   "execution_count": null,
   "metadata": {},
   "outputs": [],
   "source": []
  }
 ],
 "metadata": {
  "kernelspec": {
   "display_name": "Python 3",
   "language": "python",
   "name": "python3"
  },
  "language_info": {
   "codemirror_mode": {
    "name": "ipython",
    "version": 3
   },
   "file_extension": ".py",
   "mimetype": "text/x-python",
   "name": "python",
   "nbconvert_exporter": "python",
   "pygments_lexer": "ipython3",
   "version": "3.7.3"
  }
 },
 "nbformat": 4,
 "nbformat_minor": 2
}
