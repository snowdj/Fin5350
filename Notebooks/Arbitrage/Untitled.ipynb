{
 "cells": [
  {
   "cell_type": "markdown",
   "metadata": {},
   "source": [
    "## Monte Carlo Helicopter Tour"
   ]
  },
  {
   "cell_type": "code",
   "execution_count": 1,
   "metadata": {},
   "outputs": [],
   "source": [
    "from option import VanillaOption, call_payoff, put_payoff"
   ]
  },
  {
   "cell_type": "code",
   "execution_count": 7,
   "metadata": {},
   "outputs": [],
   "source": [
    "import matplotlib.pyplot as plt\n",
    "import numpy as np"
   ]
  },
  {
   "cell_type": "code",
   "execution_count": 8,
   "metadata": {},
   "outputs": [],
   "source": [
    "## Set some data\n",
    "spot = 41.0\n",
    "strike = 40.0\n",
    "rate = 0.08\n",
    "vol = 0.30\n",
    "div = 0.0\n",
    "expiry = 1.0"
   ]
  },
  {
   "cell_type": "code",
   "execution_count": 9,
   "metadata": {},
   "outputs": [],
   "source": [
    "steps = 252\n",
    "h = expiry / steps"
   ]
  },
  {
   "cell_type": "code",
   "execution_count": 10,
   "metadata": {},
   "outputs": [],
   "source": [
    "u = np.exp((rate - div) * h + vol * np.sqrt(h)) \n",
    "d = np.exp((rate - div) * h - vol * np.sqrt(h))"
   ]
  },
  {
   "cell_type": "code",
   "execution_count": 11,
   "metadata": {},
   "outputs": [],
   "source": [
    "pstar = (np.exp(rate * h) - d) / ( u - d)"
   ]
  },
  {
   "cell_type": "code",
   "execution_count": 12,
   "metadata": {},
   "outputs": [],
   "source": [
    "path = np.zeros(steps)\n",
    "path[0] = spot"
   ]
  },
  {
   "cell_type": "code",
   "execution_count": 15,
   "metadata": {},
   "outputs": [],
   "source": [
    "z = np.random.uniform(size=steps)\n",
    "\n",
    "for i in range(1, steps):\n",
    "    if z[i] >= pstar:\n",
    "        path[i] = path[i-1] * u\n",
    "    else:\n",
    "        path[i] = path[i-1] * d"
   ]
  },
  {
   "cell_type": "code",
   "execution_count": 16,
   "metadata": {},
   "outputs": [
    {
     "data": {
      "text/plain": [
       "array([41.        , 40.24522259, 41.02604001, 41.82200646, 41.05209656,\n",
       "       40.29636009, 41.07816966, 41.8751475 , 41.10425932, 41.90174334,\n",
       "       42.71469974, 43.54342871, 44.38823625, 45.24943433, 46.12734094,\n",
       "       47.02228024, 46.15663744, 45.30693043, 46.18595254, 45.33570587,\n",
       "       44.50111156, 45.36449958, 46.24463862, 45.39331158, 44.5576568 ,\n",
       "       45.42214189, 46.30339927, 47.20175437, 46.33280759, 47.23173326,\n",
       "       46.36223459, 45.5087427 , 46.39168028, 45.53764632, 46.42114466,\n",
       "       47.3217842 , 48.23989749, 47.35183932, 46.48012959, 47.38191352,\n",
       "       46.50965016, 47.41200683, 46.53918947, 47.44211925, 46.56874754,\n",
       "       45.71145392, 46.59832439, 45.74048628, 46.62792002, 47.53257131,\n",
       "       46.65753445, 45.79860633, 46.68716769, 45.82769404, 44.98404262,\n",
       "       45.85680023, 46.74649064, 45.8859249 , 46.77618038, 45.91506807,\n",
       "       46.80588897, 45.94422976, 46.83561643, 45.97340996, 45.12707602,\n",
       "       46.00260869, 46.895128  , 47.80496352, 48.73245121, 49.67793355,\n",
       "       48.76340228, 47.8657068 , 48.794373  , 47.89610737, 47.01437811,\n",
       "       47.92652726, 48.85637346, 49.80426007, 50.7705371 , 49.83589187,\n",
       "       50.8027826 , 51.78843245, 52.79320539, 53.81747241, 52.82673552,\n",
       "       53.85165309, 52.86028696, 51.88717109, 50.93196951, 51.92012579,\n",
       "       52.92745377, 53.95432542, 52.96106917, 53.98859301, 55.03605234,\n",
       "       54.02288237, 53.02836404, 52.05215401, 51.09391523, 52.08521349,\n",
       "       51.12636611, 52.11829397, 53.12946671, 52.15139545, 51.19132972,\n",
       "       50.24893803, 49.32389502, 48.41588131, 49.35522172, 50.31278673,\n",
       "       51.28892993, 52.28401177, 51.32150467, 50.37671657, 49.44932126,\n",
       "       50.40871194, 51.38671623, 52.38369527, 53.4000172 , 52.41696532,\n",
       "       51.45201066, 52.4502565 , 53.46786981, 54.50522634, 55.56270913,\n",
       "       56.64070867, 55.59799824, 56.67668244, 57.77629473, 58.89724113,\n",
       "       60.03993557, 61.20479999, 62.39226452, 63.60276763, 62.43189123,\n",
       "       63.64316316, 64.87793558, 63.68358435, 64.919141  , 63.72403121,\n",
       "       62.55092245, 61.39940968, 62.59064993, 63.80500201, 62.63040264,\n",
       "       63.84552599, 62.6701806 , 61.51647239, 60.38400303, 59.27238153,\n",
       "       58.1812241 , 59.31002674, 60.46072984, 59.34769586, 58.25515195,\n",
       "       57.1827209 , 58.29215109, 57.21903892, 56.1656819 , 55.13171634,\n",
       "       54.11678526, 55.16673171, 56.2370487 , 57.32813143, 58.4403828 ,\n",
       "       59.57421351, 60.73004222, 61.90829574, 60.76861322, 59.64991135,\n",
       "       58.5518039 , 57.47391173, 56.41586269, 55.3772915 , 56.45169366,\n",
       "       57.54694083, 58.66343743, 57.58349017, 58.70069588, 59.83957705,\n",
       "       58.737978  , 59.87758249, 61.03929702, 62.22355054, 63.43078035,\n",
       "       62.2630701 , 63.47106665, 64.70250014, 63.51137854, 64.74359413,\n",
       "       65.99971655, 67.28020962, 68.58554617, 69.91620819, 68.62910637,\n",
       "       67.36569907, 68.67269425, 70.00504707, 71.36324954, 70.04950884,\n",
       "       71.40857392, 70.09399884, 68.80362403, 70.13851709, 71.49930908,\n",
       "       72.88650245, 74.30060945, 72.93279429, 74.34779942, 75.79025777,\n",
       "       77.26070196, 78.75967496, 80.28773028, 78.80969699, 77.35887311,\n",
       "       75.93475774, 77.40800545, 75.98298559, 77.45716899, 76.03124408,\n",
       "       74.63156931, 76.07953321, 74.67896948, 76.12785302, 77.60484706,\n",
       "       79.11049699, 80.64535878, 82.20999918, 83.80499595, 82.26221258,\n",
       "       83.85822236, 82.31445914, 80.79911538, 79.31166789, 80.85043269,\n",
       "       82.41905183, 80.9017826 , 82.47139801, 80.95316512, 82.52377743,\n",
       "       84.12486195, 85.75700991, 87.42082398, 89.11691853, 90.84591984,\n",
       "       89.17351866, 90.9036181 , 92.66728406, 90.96135301, 92.72613911,\n",
       "       94.52516469, 92.78503154])"
      ]
     },
     "execution_count": 16,
     "metadata": {},
     "output_type": "execute_result"
    }
   ],
   "source": [
    "path"
   ]
  },
  {
   "cell_type": "code",
   "execution_count": 17,
   "metadata": {},
   "outputs": [
    {
     "data": {
      "text/plain": [
       "[<matplotlib.lines.Line2D at 0x7f7a5db159d0>]"
      ]
     },
     "execution_count": 17,
     "metadata": {},
     "output_type": "execute_result"
    },
    {
     "data": {
      "image/png": "[encoded data removed]",
      "text/plain": [
       "<Figure size 432x288 with 1 Axes>"
      ]
     },
     "metadata": {
      "needs_background": "light"
     },
     "output_type": "display_data"
    }
   ],
   "source": [
    "plt.plot(path)"
   ]
  },
  {
   "cell_type": "code",
   "execution_count": 23,
   "metadata": {},
   "outputs": [],
   "source": [
    "def european_binomial_monte_carlo(option, spot, rate, vol, div, steps=252, reps=1000):\n",
    "    h = expiry / steps\n",
    "    u = np.exp((rate - div) * h + vol * np.sqrt(h)) \n",
    "    d = np.exp((rate - div) * h - vol * np.sqrt(h))\n",
    "    z = np.random.uniform(size=steps)\n",
    "    pstar = (np.exp(rate * h) - d) / ( u - d)\n",
    "    prc_t = np.zeros(reps)\n",
    "    path = np.zeros(reps)\n",
    "    \n",
    "    for j in range(reps):\n",
    "        z = np.random.uniform(size=steps)\n",
    "        path[0] = spot\n",
    "        for i in range(1, steps):\n",
    "            if z[i] >= pstar:\n",
    "                path[i] = path[i-1] * u\n",
    "            else:\n",
    "                path[i] = path[i-1] * d\n",
    "        prc_t[j] = option.payoff(path[-1])\n",
    "        \n",
    "    return np.exp(-rate * expiry) * prc_t.mean()\n",
    "                \n",
    "    "
   ]
  },
  {
   "cell_type": "code",
   "execution_count": 24,
   "metadata": {},
   "outputs": [],
   "source": [
    "the_call = VanillaOption(strike, expiry, call_payoff)"
   ]
  },
  {
   "cell_type": "code",
   "execution_count": 27,
   "metadata": {},
   "outputs": [],
   "source": [
    "call_prc = european_binomial_monte_carlo(the_call, spot, rate, vol, div, reps=100000)"
   ]
  },
  {
   "cell_type": "code",
   "execution_count": 28,
   "metadata": {},
   "outputs": [
    {
     "data": {
      "text/plain": [
       "9.796469239044502"
      ]
     },
     "execution_count": 28,
     "metadata": {},
     "output_type": "execute_result"
    }
   ],
   "source": [
    "call_prc"
   ]
  },
  {
   "cell_type": "code",
   "execution_count": null,
   "metadata": {},
   "outputs": [],
   "source": []
  }
 ],
 "metadata": {
  "kernelspec": {
   "display_name": "Python 3",
   "language": "python",
   "name": "python3"
  },
  "language_info": {
   "codemirror_mode": {
    "name": "ipython",
    "version": 3
   },
   "file_extension": ".py",
   "mimetype": "text/x-python",
   "name": "python",
   "nbconvert_exporter": "python",
   "pygments_lexer": "ipython3",
   "version": "3.7.4"
  }
 },
 "nbformat": 4,
 "nbformat_minor": 4
}
