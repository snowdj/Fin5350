{
 "cells": [
  {
   "cell_type": "code",
   "execution_count": 1,
   "metadata": {},
   "outputs": [],
   "source": [
    "from option import VanillaOption, call_payoff, put_payoff"
   ]
  },
  {
   "cell_type": "code",
   "execution_count": 9,
   "metadata": {},
   "outputs": [],
   "source": [
    "import numpy as np\n",
    "from scipy.stats import binom"
   ]
  },
  {
   "cell_type": "code",
   "execution_count": 10,
   "metadata": {},
   "outputs": [],
   "source": [
    "def european_binomial2(option, spot, rate, vol, div, steps, u, d):\n",
    "    strike = option.strike\n",
    "    expiry = option.expiry\n",
    "    call_t = 0.0\n",
    "    spot_t = 0.0\n",
    "    h = expiry / steps\n",
    "    num_nodes = steps + 1\n",
    "    #u = np.exp((rate - div) * h + vol * np.sqrt(h))\n",
    "    #d = np.exp((rate - div) * h - vol * np.sqrt(h))\n",
    "    pstar = (np.exp(rate * h) - d) / ( u - d)\n",
    "    \n",
    "    for i in range(num_nodes):\n",
    "        spot_t = spot * (u ** (steps - i)) * (d ** (i))\n",
    "        call_t += option.payoff(spot_t) * binom.pmf(steps - i, steps, pstar)\n",
    "\n",
    "    call_t *= np.exp(-rate * expiry)\n",
    "    \n",
    "    return call_t"
   ]
  },
  {
   "cell_type": "code",
   "execution_count": 11,
   "metadata": {},
   "outputs": [],
   "source": [
    "spot = 100.0\n",
    "strike = 95.0\n",
    "rate = .08\n",
    "vol = .3\n",
    "div = 0.0\n",
    "expiry = 1.0"
   ]
  },
  {
   "cell_type": "code",
   "execution_count": 12,
   "metadata": {},
   "outputs": [],
   "source": [
    "u = 1.3; d = 0.8\n",
    "steps = 2"
   ]
  },
  {
   "cell_type": "code",
   "execution_count": 13,
   "metadata": {},
   "outputs": [],
   "source": [
    "the_call = VanillaOption(strike, expiry, call_payoff)"
   ]
  },
  {
   "cell_type": "code",
   "execution_count": 14,
   "metadata": {},
   "outputs": [
    {
     "data": {
      "text/plain": [
       "19.993693459343987"
      ]
     },
     "execution_count": 14,
     "metadata": {},
     "output_type": "execute_result"
    }
   ],
   "source": [
    "european_binomial2(the_call, spot, rate, vol, div, steps, u, d)"
   ]
  },
  {
   "cell_type": "code",
   "execution_count": 15,
   "metadata": {},
   "outputs": [],
   "source": [
    "from pricers import european_binomial, american_binomial"
   ]
  },
  {
   "cell_type": "code",
   "execution_count": 16,
   "metadata": {},
   "outputs": [],
   "source": [
    "prc_euro = european_binomial(the_call, spot, rate, vol, div, 3)\n",
    "prc_amer = american_binomial(the_call, spot, rate, vol, div, 3)"
   ]
  },
  {
   "cell_type": "code",
   "execution_count": 17,
   "metadata": {},
   "outputs": [
    {
     "data": {
      "text/plain": [
       "18.282552207370557"
      ]
     },
     "execution_count": 17,
     "metadata": {},
     "output_type": "execute_result"
    }
   ],
   "source": [
    "prc_euro"
   ]
  },
  {
   "cell_type": "code",
   "execution_count": 18,
   "metadata": {},
   "outputs": [
    {
     "data": {
      "text/plain": [
       "18.28255220737056"
      ]
     },
     "execution_count": 18,
     "metadata": {},
     "output_type": "execute_result"
    }
   ],
   "source": [
    "prc_amer"
   ]
  },
  {
   "cell_type": "code",
   "execution_count": null,
   "metadata": {},
   "outputs": [],
   "source": []
  }
 ],
 "metadata": {
  "kernelspec": {
   "display_name": "Python 3",
   "language": "python",
   "name": "python3"
  },
  "language_info": {
   "codemirror_mode": {
    "name": "ipython",
    "version": 3
   },
   "file_extension": ".py",
   "mimetype": "text/x-python",
   "name": "python",
   "nbconvert_exporter": "python",
   "pygments_lexer": "ipython3",
   "version": "3.7.4"
  }
 },
 "nbformat": 4,
 "nbformat_minor": 4
}
