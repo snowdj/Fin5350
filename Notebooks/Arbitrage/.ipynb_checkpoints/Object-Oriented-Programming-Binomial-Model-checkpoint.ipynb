{
 "cells": [
  {
   "cell_type": "markdown",
   "metadata": {},
   "source": [
    "# __Notes on Object-Oriented Programming and the Binomial Model__"
   ]
  },
  {
   "cell_type": "code",
   "execution_count": 1,
   "metadata": {},
   "outputs": [],
   "source": [
    "import numpy as np\n",
    "from scipy.stats import binom"
   ]
  },
  {
   "cell_type": "markdown",
   "metadata": {},
   "source": [
    "The objective in this exercise is to create types that can be used in Python that represent objects in the real world that we are interested in. \n",
    "\n",
    "<br>\n",
    "\n",
    "We start by creating a `VanillaCallOption` type that will have two data members (`strike` and `expiry`) and one form of behavior (the `payoff` function):"
   ]
  },
  {
   "cell_type": "code",
   "execution_count": 2,
   "metadata": {},
   "outputs": [],
   "source": [
    "class VanillaCallOption:\n",
    "    def __init__(self, strike, expiry):\n",
    "        self.strike = strike\n",
    "        self.expiry = expiry\n",
    "    \n",
    "    def payoff(self, spot):\n",
    "        return np.maximum(spot - self.strike, 0.0)"
   ]
  },
  {
   "cell_type": "markdown",
   "metadata": {},
   "source": [
    "If we want to represent a put option we can copy/paste and modify as follows:"
   ]
  },
  {
   "cell_type": "code",
   "execution_count": 3,
   "metadata": {},
   "outputs": [],
   "source": [
    "class VanillaPutOption:\n",
    "    def __init__(self, strike, expiry):\n",
    "        self.strike = strike\n",
    "        self.expiry = expiry\n",
    "    \n",
    "    def payoff(self, spot):\n",
    "        return np.maximum(self.strike - spot, 0.0)"
   ]
  },
  {
   "cell_type": "markdown",
   "metadata": {},
   "source": [
    "We can now instantiate objects of these types as follows:"
   ]
  },
  {
   "cell_type": "code",
   "execution_count": 4,
   "metadata": {},
   "outputs": [],
   "source": [
    "the_call = VanillaCallOption(40.0, 1.0)\n",
    "the_put = VanillaPutOption(40.0, 1.0)"
   ]
  },
  {
   "cell_type": "code",
   "execution_count": 5,
   "metadata": {},
   "outputs": [
    {
     "data": {
      "text/plain": [
       "1.0"
      ]
     },
     "execution_count": 5,
     "metadata": {},
     "output_type": "execute_result"
    }
   ],
   "source": [
    "the_call.payoff(41.0)"
   ]
  },
  {
   "cell_type": "code",
   "execution_count": 6,
   "metadata": {},
   "outputs": [
    {
     "data": {
      "text/plain": [
       "1.0"
      ]
     },
     "execution_count": 6,
     "metadata": {},
     "output_type": "execute_result"
    }
   ],
   "source": [
    "the_put.payoff(39.0)"
   ]
  },
  {
   "cell_type": "markdown",
   "metadata": {},
   "source": [
    "We can can create objects in memory that model the real world objects that we are interested in. \n",
    "\n",
    "<br>\n",
    "\n",
    "But, our example has some pretty serious code smells (https://en.wikipedia.org/wiki/Code_smell). Any time you copy and paste code you can know what your code is pretty smelly. \n",
    "\n",
    "<br>\n",
    "\n",
    "It would be much better to have a single class type that is composable, i.e. could take on either call or put payoff behavior at run time. \n",
    "\n",
    "<br>\n",
    "\n",
    "See here for information about composability: https://en.wikipedia.org/wiki/Composability\n",
    "\n",
    "<br>\n",
    "\n",
    "The basic idea is that if you are a user of my module you could create new types of behavior from the types that I provide you without requiring that my code be re-written. Also, I could update algorithms in my module and ship them and once you import them you could benefit from improvements in the algorithm without re-writing your code. If we can achieve this it is a very powerful outcome for our domain (which we all know is ARBITRAGE!)\n",
    "\n",
    "<br>"
   ]
  },
  {
   "cell_type": "markdown",
   "metadata": {},
   "source": [
    "Let's improve the code by making it more composable. But first, let's improve the code by making the encapsulation stronger. "
   ]
  },
  {
   "cell_type": "code",
   "execution_count": 54,
   "metadata": {},
   "outputs": [],
   "source": [
    "class VanillaOption:\n",
    "    def __init__(self, strike, expiry):\n",
    "        self.__strike = strike\n",
    "        self.__expiry = expiry\n",
    "        \n",
    "    @property\n",
    "    def strike(self):\n",
    "        return self.__strike\n",
    "    \n",
    "    @strike.setter\n",
    "    def strike(self, new_strike):\n",
    "        self.__strike = new_strike\n",
    "        \n",
    "    @property\n",
    "    def expiry(self):\n",
    "        return self.__expiry\n",
    "    \n",
    "    @expiry.setter\n",
    "    def expiry(self, new_expiry):\n",
    "        self.__expiry = new_expiry\n",
    "    \n",
    "    def payoff(self, spot):\n",
    "        return np.maximum(spot - self.__strike, 0.0)"
   ]
  },
  {
   "cell_type": "code",
   "execution_count": 55,
   "metadata": {},
   "outputs": [
    {
     "data": {
      "text/plain": [
       "40.0"
      ]
     },
     "execution_count": 55,
     "metadata": {},
     "output_type": "execute_result"
    }
   ],
   "source": [
    "the_call = VanillaOption(40.0, 1.0)\n",
    "the_call.strike "
   ]
  },
  {
   "cell_type": "code",
   "execution_count": 56,
   "metadata": {},
   "outputs": [
    {
     "data": {
      "text/plain": [
       "1.0"
      ]
     },
     "execution_count": 56,
     "metadata": {},
     "output_type": "execute_result"
    }
   ],
   "source": [
    "the_call.payoff(41.0)"
   ]
  },
  {
   "cell_type": "code",
   "execution_count": 57,
   "metadata": {},
   "outputs": [
    {
     "data": {
      "text/plain": [
       "39.0"
      ]
     },
     "execution_count": 57,
     "metadata": {},
     "output_type": "execute_result"
    }
   ],
   "source": [
    "the_call.strike = 39.0\n",
    "the_call.strike"
   ]
  },
  {
   "cell_type": "code",
   "execution_count": 16,
   "metadata": {},
   "outputs": [
    {
     "data": {
      "text/plain": [
       "2.0"
      ]
     },
     "execution_count": 16,
     "metadata": {},
     "output_type": "execute_result"
    }
   ],
   "source": [
    "the_call.payoff(41.0)"
   ]
  },
  {
   "cell_type": "markdown",
   "metadata": {},
   "source": [
    "We now have a public interface to allow obtaining and setting the values of the data members that honors the principle of encapsulation. \n",
    "\n",
    "Let's now turn to making our type composable.\n",
    "\n",
    "<br>\n",
    "    \n",
    "We start by recognizing that functions in Python are first-class objects, which means we can pass them around as other types of data. \n",
    "\n",
    "<br>\n",
    "\n",
    "Let's take a detour with a simpler example. \n",
    "\n",
    "<br>"
   ]
  },
  {
   "cell_type": "code",
   "execution_count": 17,
   "metadata": {},
   "outputs": [],
   "source": [
    "class Math:\n",
    "    def __init__(self, x, y, operation):\n",
    "        self.x = x\n",
    "        self.y = y\n",
    "        self.__operation = operation\n",
    "        \n",
    "    def operation(self):\n",
    "        return self.__operation(self.x, self.y)"
   ]
  },
  {
   "cell_type": "markdown",
   "metadata": {},
   "source": [
    "This simple class will perform basic mathematical operations. It will have two data members representing floating point values. The third argument to the constructor function is a function itself. This will allow us to swap out at run time the actual behavior of the method. \n",
    "\n",
    "<br>\n",
    "\n",
    "We will create two functions, one for addition and one for subtraction.\n",
    "\n",
    "<br>"
   ]
  },
  {
   "cell_type": "code",
   "execution_count": 22,
   "metadata": {},
   "outputs": [],
   "source": [
    "def addition(a, b):\n",
    "    return a + b"
   ]
  },
  {
   "cell_type": "code",
   "execution_count": 23,
   "metadata": {},
   "outputs": [],
   "source": [
    "def subtraction(a, b):\n",
    "    return a - b"
   ]
  },
  {
   "cell_type": "markdown",
   "metadata": {},
   "source": [
    "We can now use these to define an object with behavior."
   ]
  },
  {
   "cell_type": "code",
   "execution_count": 28,
   "metadata": {},
   "outputs": [],
   "source": [
    "obj1 = Math(2, 1, addition)"
   ]
  },
  {
   "cell_type": "code",
   "execution_count": 29,
   "metadata": {},
   "outputs": [
    {
     "data": {
      "text/plain": [
       "3"
      ]
     },
     "execution_count": 29,
     "metadata": {},
     "output_type": "execute_result"
    }
   ],
   "source": [
    "obj1.operation()"
   ]
  },
  {
   "cell_type": "code",
   "execution_count": 30,
   "metadata": {},
   "outputs": [
    {
     "data": {
      "text/plain": [
       "1"
      ]
     },
     "execution_count": 30,
     "metadata": {},
     "output_type": "execute_result"
    }
   ],
   "source": [
    "obj2 = Math(2,1, subtraction)\n",
    "obj2.operation()"
   ]
  },
  {
   "cell_type": "markdown",
   "metadata": {},
   "source": [
    "Let's now imagine that I ship this code to you and you would like to create objects that have behavior that you would like to define. So you create the following two functions (for multiplication and division)."
   ]
  },
  {
   "cell_type": "code",
   "execution_count": 31,
   "metadata": {},
   "outputs": [],
   "source": [
    "def multiplication(a, b):\n",
    "    return a * b"
   ]
  },
  {
   "cell_type": "code",
   "execution_count": 32,
   "metadata": {},
   "outputs": [],
   "source": [
    "def division(a, b):\n",
    "    return a / b"
   ]
  },
  {
   "cell_type": "code",
   "execution_count": 35,
   "metadata": {},
   "outputs": [],
   "source": [
    "obj3 = Math(6, 3, multiplication)"
   ]
  },
  {
   "cell_type": "code",
   "execution_count": 36,
   "metadata": {},
   "outputs": [
    {
     "data": {
      "text/plain": [
       "18"
      ]
     },
     "execution_count": 36,
     "metadata": {},
     "output_type": "execute_result"
    }
   ],
   "source": [
    "obj3.operation()"
   ]
  },
  {
   "cell_type": "code",
   "execution_count": 37,
   "metadata": {},
   "outputs": [
    {
     "data": {
      "text/plain": [
       "2.0"
      ]
     },
     "execution_count": 37,
     "metadata": {},
     "output_type": "execute_result"
    }
   ],
   "source": [
    "obj4 = Math(6, 3, division)\n",
    "obj4.operation()"
   ]
  },
  {
   "cell_type": "markdown",
   "metadata": {},
   "source": [
    "We can see that our code is fully composable. You were able to add additional behavior without changing a single liine of the class definition. This is very powerful. \n",
    "\n",
    "<br>\n",
    "\n",
    "We seek objects that we can instantiate in the language of our domain (ARBITRAGE) that give us mental constructs to perform our tasks. \n",
    "\n",
    "<br>\n",
    "\n",
    "We can now refine our class as follows. "
   ]
  },
  {
   "cell_type": "code",
   "execution_count": 39,
   "metadata": {},
   "outputs": [],
   "source": [
    "def call_payoff(option, spot):\n",
    "    return np.maximum(spot - option.strike, 0.0)"
   ]
  },
  {
   "cell_type": "code",
   "execution_count": 40,
   "metadata": {},
   "outputs": [],
   "source": [
    "def put_payoff(option, spot):\n",
    "    return np.maximum(option.strike - spot, 0.0)"
   ]
  },
  {
   "cell_type": "code",
   "execution_count": 45,
   "metadata": {},
   "outputs": [],
   "source": [
    "class VanillaOption:\n",
    "    def __init__(self, strike, expiry, payoff):\n",
    "        self.__strike = strike\n",
    "        self.__expiry = expiry\n",
    "        self.__payoff = payoff\n",
    "        \n",
    "    @property\n",
    "    def strike(self):\n",
    "        return self.__strike\n",
    "    \n",
    "    @strike.setter\n",
    "    def strike(self, new_strike):\n",
    "        self.__strike = new_strike\n",
    "        \n",
    "    @property\n",
    "    def expiry(self):\n",
    "        return self.__expiry\n",
    "    \n",
    "    @expiry.setter\n",
    "    def expiry(self, new_expiry):\n",
    "        self.__expiry = new_expiry\n",
    "    \n",
    "    def payoff(self, spot):\n",
    "        return self.__payoff(self, spot)"
   ]
  },
  {
   "cell_type": "code",
   "execution_count": 46,
   "metadata": {},
   "outputs": [
    {
     "data": {
      "text/plain": [
       "1.0"
      ]
     },
     "execution_count": 46,
     "metadata": {},
     "output_type": "execute_result"
    }
   ],
   "source": [
    "spot = 41.0\n",
    "the_call = VanillaOption(40.0, 1.0, call_payoff)\n",
    "the_call.payoff(spot)"
   ]
  },
  {
   "cell_type": "code",
   "execution_count": 47,
   "metadata": {},
   "outputs": [
    {
     "data": {
      "text/plain": [
       "1.0"
      ]
     },
     "execution_count": 47,
     "metadata": {},
     "output_type": "execute_result"
    }
   ],
   "source": [
    "spot = 39.0\n",
    "the_put = VanillaOption(40.0, 1.0, put_payoff)\n",
    "the_put.payoff(spot)"
   ]
  },
  {
   "cell_type": "markdown",
   "metadata": {},
   "source": [
    "Notice that our class is composable in exactly the same way as our simple `Math` class above. I could ship this code to you and you could add your own payoffs and the class would obtain new behavior without changing the class definition. We will do this later for new payoff types. "
   ]
  },
  {
   "cell_type": "markdown",
   "metadata": {},
   "source": [
    "## The European Binomial Model"
   ]
  },
  {
   "cell_type": "markdown",
   "metadata": {},
   "source": [
    "Let's now take a look at the European Binomial Model algorithm. One thing we will notice is that the algorithm is fully _polymorphic_, meaning that without changing a single line of code the algorithm with price either a call or a put option."
   ]
  },
  {
   "cell_type": "code",
   "execution_count": 48,
   "metadata": {},
   "outputs": [],
   "source": [
    "def european_binomial(option, spot, rate, vol, div, steps):\n",
    "    strike = option.strike\n",
    "    expiry = option.expiry\n",
    "    call_t = 0.0\n",
    "    spot_t = 0.0\n",
    "    h = expiry / steps\n",
    "    num_nodes = steps + 1\n",
    "    u = np.exp((rate - div) * h + vol * np.sqrt(h))\n",
    "    d = np.exp((rate - div) * h - vol * np.sqrt(h))\n",
    "    pstar = (np.exp(rate * h) - d) / ( u - d)\n",
    "    \n",
    "    for i in range(num_nodes):\n",
    "        spot_t = spot * (u ** (steps - i)) * (d ** (i))\n",
    "        call_t += option.payoff(spot_t) * binom.pmf(steps - i, steps, pstar)\n",
    "\n",
    "    call_t *= np.exp(-rate * expiry)\n",
    "    \n",
    "    return call_t"
   ]
  },
  {
   "cell_type": "code",
   "execution_count": 51,
   "metadata": {},
   "outputs": [
    {
     "name": "stdout",
     "output_type": "stream",
     "text": [
      "The Call Option Price is:  6.97\n"
     ]
    }
   ],
   "source": [
    "call_prc = european_binomial(the_call, 41.0, 0.08, 0.3, 0.0, 100)\n",
    "print(f\"The Call Option Price is: {call_prc : 0.2f}\")"
   ]
  },
  {
   "cell_type": "code",
   "execution_count": 53,
   "metadata": {},
   "outputs": [
    {
     "name": "stdout",
     "output_type": "stream",
     "text": [
      "The Put Option Price is:  2.89\n"
     ]
    }
   ],
   "source": [
    "put_prc = european_binomial(the_put, 41.0, 0.08, 0.3, 0.0, 100)\n",
    "print(f\"The Put Option Price is: {put_prc : 0.2f}\")"
   ]
  },
  {
   "cell_type": "markdown",
   "metadata": {},
   "source": [
    "The objective is arbitrage. We are well on our way. "
   ]
  },
  {
   "cell_type": "code",
   "execution_count": null,
   "metadata": {},
   "outputs": [],
   "source": []
  }
 ],
 "metadata": {
  "kernelspec": {
   "display_name": "Python 3",
   "language": "python",
   "name": "python3"
  },
  "language_info": {
   "codemirror_mode": {
    "name": "ipython",
    "version": 3
   },
   "file_extension": ".py",
   "mimetype": "text/x-python",
   "name": "python",
   "nbconvert_exporter": "python",
   "pygments_lexer": "ipython3",
   "version": "3.7.4"
  }
 },
 "nbformat": 4,
 "nbformat_minor": 4
}
