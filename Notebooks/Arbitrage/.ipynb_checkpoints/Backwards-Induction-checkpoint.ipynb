{
 "cells": [
  {
   "cell_type": "markdown",
   "metadata": {},
   "source": [
    "## Recursive Solution of the European Binomial Model"
   ]
  },
  {
   "cell_type": "code",
   "execution_count": 4,
   "metadata": {},
   "outputs": [],
   "source": [
    "## First import numpy\n",
    "import numpy as np\n",
    "from scipy.stats import binom\n",
    "\n",
    "## Call Payoff Function\n",
    "def callPayoff(spot, strike):\n",
    "    return np.maximum(spot - strike, 0.0)\n",
    "\n",
    "## Put Payoff Function\n",
    "def putPayoff(spot, strike):\n",
    "    return np.maximum(strike - spot, 0.0)\n"
   ]
  },
  {
   "cell_type": "markdown",
   "metadata": {},
   "source": [
    "### The Simplified European Binomial Pricer"
   ]
  },
  {
   "cell_type": "code",
   "execution_count": 5,
   "metadata": {},
   "outputs": [],
   "source": [
    "def euroBinomPricer(S, K, r, v, q, T, n, payoff, verbose = True):\n",
    "    nodes = n  + 1\n",
    "    h = T / n\n",
    "    u = np.exp((r - q) * h + v * np.sqrt(h))\n",
    "    d = np.exp((r - q) * h - v * np.sqrt(h))\n",
    "    pstar = (np.exp((r - q) * h) - d) / (u - d)\n",
    "    \n",
    "    price = 0.0\n",
    "    \n",
    "    for i in range(nodes):\n",
    "        prob = binom.pmf(i, n, pstar)\n",
    "        spotT = S * (u ** i) * (d ** (n - i))\n",
    "        po = payoff(spotT, K) \n",
    "        price += po * prob\n",
    "        if verbose:\n",
    "            print(f\"({spotT:0.4f}, {po:0.4f}, {prob:0.4f})\")\n",
    "        \n",
    "    price *= np.exp(-r * T)\n",
    "    \n",
    "    return price\n",
    "    "
   ]
  },
  {
   "cell_type": "code",
   "execution_count": 6,
   "metadata": {},
   "outputs": [
    {
     "name": "stdout",
     "output_type": "stream",
     "text": [
      "(26.4157, 13.5843, 0.1603)\n",
      "(37.3513, 2.6487, 0.4044)\n",
      "(52.8140, 0.0000, 0.3400)\n",
      "(74.6781, 0.0000, 0.0953)\n",
      "The European Put Premium:  2.999\n"
     ]
    }
   ],
   "source": [
    "S = 41.0\n",
    "K = 40.0\n",
    "r = 0.08\n",
    "v = 0.30\n",
    "q = 0.0\n",
    "T = 1.0\n",
    "n = 3\n",
    "\n",
    "putPrc = euroBinomPricer(S, K, r, v, q, T, n, putPayoff, verbose = True)\n",
    "print(f\"The European Put Premium: {putPrc : 0.3f}\")"
   ]
  },
  {
   "cell_type": "markdown",
   "metadata": {},
   "source": [
    "### The Full Recursive Solution for the European Binomial Model"
   ]
  },
  {
   "cell_type": "code",
   "execution_count": 7,
   "metadata": {},
   "outputs": [],
   "source": [
    "def euroBinomPricerRecursive(S, K, r, v, q, T, n, payoff, verbose = True):\n",
    "    nodes = n  + 1\n",
    "    h = T / n\n",
    "    u = np.exp((r - q) * h + v * np.sqrt(h))\n",
    "    d = np.exp((r - q) * h - v * np.sqrt(h))\n",
    "    pu = (np.exp((r - q) * h) - d) / (u - d)\n",
    "    pd = 1.0 - pu\n",
    "    disc = np.exp(-r * h)\n",
    "    \n",
    "    \n",
    "    ## Arrays to store the spot prices and option values\n",
    "    Ct = np.empty(nodes)\n",
    "    St = np.empty(nodes)\n",
    "    \n",
    "    for i in range(nodes):\n",
    "        St[i] = S * (u ** (n - i)) * (d ** i)\n",
    "        Ct[i] = payoff(St[i], K)\n",
    "    \n",
    "    if verbose:\n",
    "        print(Ct)\n",
    "        \n",
    "    for t in range((n - 1), -1, -1):\n",
    "        for j in range(t+1):\n",
    "            Ct[j] = disc * (pu * Ct[j] + pd * Ct[j+1])\n",
    "            # St[j] = St[j] / u\n",
    "            # Ct[j] = np.maximum(Ct[j], early payoff)\n",
    "            print(Ct)\n",
    "            \n",
    "    return Ct[0]\n",
    "            \n",
    "    "
   ]
  },
  {
   "cell_type": "code",
   "execution_count": 8,
   "metadata": {},
   "outputs": [
    {
     "name": "stdout",
     "output_type": "stream",
     "text": [
      "[ 0.          0.          2.6487273  13.58434506]\n",
      "[ 0.          0.          2.6487273  13.58434506]\n",
      "[ 0.          1.40091085  2.6487273  13.58434506]\n",
      "[ 0.          1.40091085  8.36287205 13.58434506]\n",
      "[ 0.74094121  1.40091085  8.36287205 13.58434506]\n",
      "[ 0.74094121  5.04622553  8.36287205 13.58434506]\n",
      "[ 2.99850712  5.04622553  8.36287205 13.58434506]\n"
     ]
    },
    {
     "data": {
      "text/plain": [
       "2.9985071167431516"
      ]
     },
     "execution_count": 8,
     "metadata": {},
     "output_type": "execute_result"
    }
   ],
   "source": [
    "putPrc = euroBinomPricerRecursive(S, K, r, v, q, T, n, putPayoff, verbose = True)\n",
    "putPrc"
   ]
  },
  {
   "cell_type": "markdown",
   "metadata": {},
   "source": [
    "#### Using a Two-Dimensional Array"
   ]
  },
  {
   "cell_type": "code",
   "execution_count": 26,
   "metadata": {},
   "outputs": [],
   "source": [
    "def euroBinomPricerRecursiveMatrix(S, K, r, v, q, T, n, payoff, verbose = True):\n",
    "    nodes = n  + 1\n",
    "    h = T / n\n",
    "    u = np.exp((r - q) * h + v * np.sqrt(h))\n",
    "    d = np.exp((r - q) * h - v * np.sqrt(h))\n",
    "    pu = (np.exp((r - q) * h) - d) / (u - d)\n",
    "    pd = 1.0 - pu\n",
    "    disc = np.exp(-r * h)\n",
    "    \n",
    "    ## Arrays to store the spot prices and option values\n",
    "    Ct = np.zeros((nodes, n+1))\n",
    "    St = np.zeros((nodes, n+1))\n",
    "    Dt = np.zeros((nodes, n+1))\n",
    "    \n",
    "    for i in range(nodes):\n",
    "        St[i, n] = S * (u**(n-i)) * (d**i)\n",
    "        Ct[i, n] = payoff(St[i, n], K)\n",
    "    \n",
    "\n",
    "    for t in range((n-1), -1, -1):\n",
    "        for j in range(t+1):\n",
    "            St[j, t] = St[j, t+1] / u\n",
    "            Ct[j, t] = disc * ((pu * Ct[j, t+1]) + (pd * Ct[j+1, t+1]))\n",
    "            Dt[j, t] = np.exp(-q * h) * (Ct[j, t+1] - Ct[j+1, t+1]) / (St[j, t] * (u - d))\n",
    "        \n",
    "    if verbose:\n",
    "        print(np.around(St, 3))\n",
    "        print(\"\\n\")\n",
    "        print(np.around(Ct, 3))\n",
    "        print(\"\\n\")\n",
    "        print(np.around(Dt, 3))\n",
    "        print(\"\\n\")\n",
    "                    \n",
    "            \n",
    "    return Ct[0,0]"
   ]
  },
  {
   "cell_type": "code",
   "execution_count": 27,
   "metadata": {},
   "outputs": [
    {
     "name": "stdout",
     "output_type": "stream",
     "text": [
      "[[41.    50.071 61.149 74.678]\n",
      " [ 0.    35.411 43.246 52.814]\n",
      " [ 0.     0.    30.585 37.351]\n",
      " [ 0.     0.     0.    26.416]]\n",
      "\n",
      "\n",
      "[[ 7.074 12.889 22.202 34.678]\n",
      " [ 0.     2.535  5.7   12.814]\n",
      " [ 0.     0.     0.     0.   ]\n",
      " [ 0.     0.     0.     0.   ]]\n",
      "\n",
      "\n",
      "[[0.706 0.922 1.    0.   ]\n",
      " [0.    0.45  0.829 0.   ]\n",
      " [0.    0.    0.    0.   ]\n",
      " [0.    0.    0.    0.   ]]\n",
      "\n",
      "\n"
     ]
    }
   ],
   "source": [
    "## See McDonald Chapter 10 page 327 (2nd edition) [page 309  in 3rd edition]\n",
    "\n",
    "S = 41.0\n",
    "K = 40.0\n",
    "v = 0.30\n",
    "r = 0.08\n",
    "T = 1.0\n",
    "q = 0.0\n",
    "n = 3\n",
    "\n",
    "callPrc = euroBinomPricerRecursiveMatrix(S, K, r, v, q, T, n, callPayoff, verbose = True)"
   ]
  },
  {
   "cell_type": "code",
   "execution_count": null,
   "metadata": {},
   "outputs": [],
   "source": []
  },
  {
   "cell_type": "code",
   "execution_count": null,
   "metadata": {},
   "outputs": [],
   "source": []
  }
 ],
 "metadata": {
  "kernelspec": {
   "display_name": "Python 3",
   "language": "python",
   "name": "python3"
  },
  "language_info": {
   "codemirror_mode": {
    "name": "ipython",
    "version": 3
   },
   "file_extension": ".py",
   "mimetype": "text/x-python",
   "name": "python",
   "nbconvert_exporter": "python",
   "pygments_lexer": "ipython3",
   "version": "3.7.4"
  }
 },
 "nbformat": 4,
 "nbformat_minor": 4
}
