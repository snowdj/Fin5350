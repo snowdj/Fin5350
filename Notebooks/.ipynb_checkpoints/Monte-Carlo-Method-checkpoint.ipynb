{
 "cells": [
  {
   "cell_type": "markdown",
   "metadata": {},
   "source": [
    "# An Introduction to the Monte Carlo Method\n",
    "\n",
    "This set of notes introduces some basic concepts regarding statistical limit theory as well as the Monte Carlo method.\n",
    "\n",
    "## Statistical Limit Theory\n",
    "\n",
    "### Limiting Distribution\n",
    "\n",
    "Consider a sequence of random variables $Y_{1}, Y_{2}, \\ldots$ with a corresponding sequence of CDFs $G_{1}(y), G_{2}(y), \\ldots$ so that for each $n = 1, 2, \\ldots$\n",
    "\n",
    "$$G_{n}(y) = P[Y_{n} \\le y]$$\n",
    "\n",
    "***Definition***\n",
    "\n",
    "If $Y_{n} \\sim G_{n}(y)$ for each $n = 1, 2, \\ldots$, and if for some CDF $G(y)$\n",
    "\n",
    "$$\\lim_{n\\to\\infty} G_{n}(y) = G(y)$$\n",
    "\n",
    "for all values $y$ at which $G(y)$ is continous, then the sequence $Y_{1}, Y_{2}, \\ldots$ is said to **converge in distribution** to $Y \\sim G(y)$, denoted by $Y_{n} \\xrightarrow{d} Y$. The distribution corresponding to the CDF $G(y)$ is called the **limiting distribution** of $Y_{n}$.\n",
    "\n",
    "### Basic Convergence Concepts\n",
    "\n",
    "***Definition***\n",
    "\n",
    "A sequence of random variables, $Y_{1}, Y_{2}, \\ldots$, is said to **converge in probability** to the random variable $Y$ if \n",
    "\n",
    "$$\\lim_{n\\to\\infty} P[|Y_{n} - Y| < \\varepsilon] = 1$$\n",
    "\n",
    "for every $\\varepsilon > 0$.\n",
    "\n",
    "\n",
    "***Definition***\n",
    "\n",
    "The sequence **converges almost surely** to $Y$ if \n",
    "\n",
    "$$P[lim_{n\\to\\infty} |Y_{n} - Y| < \\varepsilon] = 1$$\n",
    "\n",
    "for every $\\varepsilon > 0$. \n",
    "\n",
    "### The Law of Large Numbers\n",
    "\n",
    "***Definition***\n",
    "\n",
    "The law which states that the larger a sample, the nearer its mean is to that of the parent population from which the sample is drawn. More formally: for every $\\varepsilon > 0$, the probability\n",
    "\n",
    "$$\\{|\\bar{Y} - Y| > \\varepsilon \\} \\rightarrow 0 \\quad \\mbox{as} \\quad n \\rightarrow \\infty$$\n",
    "\n",
    "where $n$ is the sample size, $\\bar{Y}$ is the sample mean, and $\\mu$ is the parent mean.\n",
    "\n",
    "More rigorous definitions are the following:\n",
    "\n",
    "For i.i.d sequences of one-dimensional random variables $Y_{1}, Y_{2}, \\ldots$, let $\\bar{Y}_{n} = \\frac{1}{n} \\sum\\limits_{i=1}^{n} Y_{i}$.\n",
    "\n",
    "The *weak law of large numbers* states that $\\bar{Y}_{n}$ converges in probability to $\\mu = E\\{Y_{i}\\}$ if $E\\{|Y_{i}|\\} < \\infty$.\n",
    "\n",
    "The *strong law of large numbers* states that $\\bar{Y}_{n}$ converges almost surely to $\\mu$ if $E\\{|Y_{i}|\\} < \\infty$.\n",
    "\n",
    "Both results hold under the more stringent but easily checked condition that $var\\{Y_{i}\\} = \\sigma^{2} < \\infty$.\n",
    "\n",
    "### Using Simulation to Check the Law of Large Numbers\n",
    "\n",
    "We can use simulation to check the Law of Large Numbers. Consider a fair die with six sides and outcomes $Y = \\{1, 2, 3, 4, 5, 6\\}$, each with $P[Y_{i} = y] = \\frac{1}{6}$. The true mean is \n",
    "\n",
    "$$ \\mu = E\\{Y\\} = \\frac{1}{6}[1 + 2 + 3 + 4 + 5 + 6] = 3.5$$\n",
    "\n",
    "We can verify this in `Python`:"
   ]
  },
  {
   "cell_type": "code",
   "execution_count": 1,
   "metadata": {
    "collapsed": false,
    "jupyter": {
     "outputs_hidden": false
    }
   },
   "outputs": [],
   "source": [
    "%matplotlib inline"
   ]
  },
  {
   "cell_type": "code",
   "execution_count": 2,
   "metadata": {
    "collapsed": false,
    "jupyter": {
     "outputs_hidden": false
    }
   },
   "outputs": [
    {
     "data": {
      "text/plain": [
       "array([1, 2, 3, 4, 5, 6])"
      ]
     },
     "execution_count": 2,
     "metadata": {},
     "output_type": "execute_result"
    }
   ],
   "source": [
    "import numpy as np\n",
    "import matplotlib.pyplot as plt\n",
    "\n",
    "x = np.arange(1,7)\n",
    "mu = (1/6) * x.sum()\n",
    "x"
   ]
  },
  {
   "cell_type": "code",
   "execution_count": 3,
   "metadata": {
    "collapsed": false,
    "jupyter": {
     "outputs_hidden": false
    }
   },
   "outputs": [
    {
     "data": {
      "text/plain": [
       "3.5"
      ]
     },
     "execution_count": 3,
     "metadata": {},
     "output_type": "execute_result"
    }
   ],
   "source": [
    "mu"
   ]
  },
  {
   "cell_type": "markdown",
   "metadata": {},
   "source": [
    "Now let's simulate some rolls of the die and collect some data. We will let our sample size increase and plot the estimated mean.\n",
    "\n",
    "We can simulate a single roll of the die as follows:\n"
   ]
  },
  {
   "cell_type": "code",
   "execution_count": 4,
   "metadata": {
    "collapsed": false,
    "jupyter": {
     "outputs_hidden": false
    }
   },
   "outputs": [
    {
     "data": {
      "text/plain": [
       "3"
      ]
     },
     "execution_count": 4,
     "metadata": {},
     "output_type": "execute_result"
    }
   ],
   "source": [
    "np.random.randint(1,7)"
   ]
  },
  {
   "cell_type": "markdown",
   "metadata": {},
   "source": [
    "We can also simulate many at once as follows:"
   ]
  },
  {
   "cell_type": "code",
   "execution_count": 5,
   "metadata": {
    "collapsed": false,
    "jupyter": {
     "outputs_hidden": false
    }
   },
   "outputs": [
    {
     "data": {
      "text/plain": [
       "array([2, 3, 3, 1, 5, 5, 4, 3, 2, 4, 4, 1, 5, 1, 2, 2, 2, 4, 4, 4, 2, 5,\n",
       "       5, 6, 4, 3, 5, 5, 3, 4, 4, 2, 4, 4, 2, 4, 6, 1, 4, 4, 5, 2, 3, 4,\n",
       "       1, 2, 4, 2, 2, 3, 1, 5, 4, 5, 5, 6, 5, 1, 4, 6, 6, 1, 4, 3, 6, 4,\n",
       "       1, 4, 6, 5, 6, 1, 5, 3, 1, 1, 3, 4, 5, 6, 6, 5, 3, 4, 3, 2, 5, 6,\n",
       "       1, 4, 4, 5, 4, 4, 3, 6, 3, 6, 2, 6])"
      ]
     },
     "execution_count": 5,
     "metadata": {},
     "output_type": "execute_result"
    }
   ],
   "source": [
    "np.random.randint(1,7, size=100)\n",
    "    "
   ]
  },
  {
   "cell_type": "code",
   "execution_count": 9,
   "metadata": {
    "collapsed": false,
    "jupyter": {
     "outputs_hidden": false
    }
   },
   "outputs": [
    {
     "data": {
      "text/plain": [
       "Text(0,0.5,'Estimated Mean')"
      ]
     },
     "execution_count": 9,
     "metadata": {},
     "output_type": "execute_result"
    },
    {
     "data": {
      "image/png": "[encoded data removed]",
      "text/plain": [
       "<matplotlib.figure.Figure at 0x7f35c891e828>"
      ]
     },
     "metadata": {},
     "output_type": "display_data"
    }
   ],
   "source": [
    "m = 10000\n",
    "sizes = np.arange(1,m + 1)\n",
    "means = np.zeros((m,))\n",
    "\n",
    "for i in range(len(sizes)):\n",
    "    y = np.random.randint(1,7, size=sizes[i])\n",
    "    means[i] = y.mean()\n",
    "    \n",
    "plt.plot(means, 'g', lw = 2.5)\n",
    "plt.grid(True)\n",
    "plt.title(\"Simulating the Toss of a Fair Die to Demonstrate the Law of Large Numbers\")\n",
    "plt.xlabel(\"Sample Size\")\n",
    "plt.ylabel(\"Estimated Mean\")"
   ]
  },
  {
   "cell_type": "code",
   "execution_count": 9,
   "metadata": {
    "collapsed": false,
    "jupyter": {
     "outputs_hidden": false
    }
   },
   "outputs": [
    {
     "data": {
      "text/plain": [
       "array([ 5.        ,  3.5       ,  3.33333333,  1.5       ,  3.2       ,\n",
       "        2.16666667,  3.57142857,  3.125     ,  3.33333333,  3.2       ])"
      ]
     },
     "execution_count": 9,
     "metadata": {},
     "output_type": "execute_result"
    }
   ],
   "source": [
    "means[:10]"
   ]
  },
  {
   "cell_type": "markdown",
   "metadata": {},
   "source": [
    "We can do a similar simulation for the flipping of a fair coin. We can simulate the flip of a coin with the Binomial distribution as follows:"
   ]
  },
  {
   "cell_type": "code",
   "execution_count": 10,
   "metadata": {
    "collapsed": false,
    "jupyter": {
     "outputs_hidden": false
    }
   },
   "outputs": [
    {
     "data": {
      "text/plain": [
       "array([0, 1, 0, 0, 1, 0, 0, 1, 1, 1, 0, 0, 1, 1, 0, 1, 1, 0, 0, 0, 0, 0,\n",
       "       0, 1, 0, 1, 0, 0, 1, 1, 0, 0, 1, 1, 1, 0, 0, 0, 1, 0, 1, 1, 0, 1,\n",
       "       0, 0, 0, 1, 0, 1, 1, 0, 1, 0, 1, 1, 0, 1, 1, 1, 1, 1, 1, 0, 0, 1,\n",
       "       0, 0, 1, 0, 0, 0, 0, 1, 0, 1, 1, 1, 1, 1, 1, 0, 0, 0, 0, 0, 1, 0,\n",
       "       1, 0, 1, 0, 0, 0, 0, 1, 0, 0, 1, 0])"
      ]
     },
     "execution_count": 10,
     "metadata": {},
     "output_type": "execute_result"
    }
   ],
   "source": [
    "np.random.binomial(1, 0.5, 100)"
   ]
  },
  {
   "cell_type": "code",
   "execution_count": 12,
   "metadata": {
    "collapsed": false,
    "jupyter": {
     "outputs_hidden": false
    }
   },
   "outputs": [
    {
     "data": {
      "text/plain": [
       "Text(0,0.5,'Estimated Mean')"
      ]
     },
     "execution_count": 12,
     "metadata": {},
     "output_type": "execute_result"
    },
    {
     "data": {
      "image/png": "[encoded data removed]",
      "text/plain": [
       "<matplotlib.figure.Figure at 0x7f35c895c7b8>"
      ]
     },
     "metadata": {},
     "output_type": "display_data"
    }
   ],
   "source": [
    "m = 10000\n",
    "sizes = np.arange(1,m + 1)\n",
    "means = np.zeros((m,))\n",
    "\n",
    "for i in range(len(sizes)):\n",
    "    y = np.random.binomial(1, 0.5, sizes[i])\n",
    "    means[i] = y.mean()\n",
    "    \n",
    "plt.plot(means, 'g', lw = 2.5)\n",
    "plt.grid(True)\n",
    "plt.title(\"Simulating Flipping a Fair Coin\")\n",
    "plt.xlabel(\"Sample Size\")\n",
    "plt.ylabel(\"Estimated Mean\")"
   ]
  },
  {
   "cell_type": "markdown",
   "metadata": {},
   "source": [
    "## The Central Limit Theorem\n",
    "\n",
    "\n",
    "The theorem that states that, if samples of size $n$ are taken from a parent population with mean $\\mu$ and standard deviation $\\sigma$, then the distribution of their means will be approximately normal with:\n",
    "\n",
    "$$\\mbox{Mean} = \\mu$$\n",
    "\n",
    "and\n",
    "\n",
    "$$\\mbox{Standard deviation} = \\frac{\\sigma}{\\sqrt{n}}$$\n",
    "\n",
    "As the sample size $n$ increases, this distribution approaches the normal distribution with increasing accuracy. Thus in the limit, as $n \\rightarrow \\infty$, the distribution of the sample means $\\rightarrow$ Normal, mean $\\mu$, standard deviation $\\sigma / \\sqrt{n}$.\n",
    "\n",
    "If the parent population is itself normal, the distribution of the sample means will be normal, whatever the sample size. If the parent population is of finite size $N$, two possibilties arise:\n",
    "\n",
    "1. If the sampling is carried out with replacement, the theorem stands as stated;\n",
    "2. If there is no replacement, the standard deviation of the sample mean is:\n",
    "\n",
    "$$\\frac{\\sigma}{\\sqrt{n}} \\sqrt{\\frac{N - n}{N - 1}}$$\n",
    "\n",
    "The factor $\\sqrt{\\frac{N - n}{N - 1}}$ is called the **finite population correction.**\n",
    "\n",
    "The central limite theorem provides the basis for much of sampling theory; it can be summed up, as follows. If $n$ is not small, the sampling distribution of the means is approximately normal, has $\\mbox{mean} = \\mu$ (the parent mean), and has standard deviation $\\sigma / \\sqrt{n}$ (where $\\sigma$ is the parent standard deviation).\n",
    "\n",
    "We can use simulation to build intuition for the central limit theorem as well. Consider the mean of a sample from an exponential distribution. Recall that the density of the exponential distribution is the following:\n",
    "\n",
    "$$f(x) = \\frac{1}{\\theta}e^{-x/\\theta}$$\n",
    "\n",
    "for $\\theta > 0$ and $x > 0$.\n",
    "\n",
    "In `Python` we can simulate from the exponential distribution as follows:"
   ]
  },
  {
   "cell_type": "code",
   "execution_count": 13,
   "metadata": {
    "collapsed": false,
    "jupyter": {
     "outputs_hidden": false
    }
   },
   "outputs": [
    {
     "data": {
      "text/plain": [
       "array([1.88267380e-02, 4.63104469e-01, 2.83854067e+00, 3.88992361e-01,\n",
       "       3.40096413e+00, 1.03607710e+00, 1.28121390e+00, 1.82788680e+00,\n",
       "       2.28088220e+00, 3.51824251e+00, 9.40089494e-01, 8.90381127e-01,\n",
       "       2.28849069e-01, 1.50502579e+00, 7.45818439e-01, 7.22209136e-01,\n",
       "       1.38038917e+00, 1.16239638e-01, 4.89609837e-01, 4.39895215e-01,\n",
       "       1.20722350e+00, 3.19348438e+00, 5.90549472e-01, 6.04187313e-01,\n",
       "       6.36294603e-01, 1.04564147e+00, 1.01397715e+00, 2.36535890e+00,\n",
       "       1.81775192e+00, 9.87783463e-02, 5.61679750e-03, 4.50868199e-01,\n",
       "       2.42787903e-01, 1.99024645e+00, 1.60036524e+00, 1.36929360e+00,\n",
       "       1.59001141e+00, 5.05115773e-01, 1.68277242e+00, 2.39615421e+00,\n",
       "       9.75231485e-01, 6.87973429e-02, 3.35266560e-01, 4.71463052e-01,\n",
       "       3.32744557e-01, 1.08552839e-01, 9.08518781e-01, 2.41061722e+00,\n",
       "       1.49233931e-01, 2.81779782e-01, 7.58444012e-01, 4.59639447e-01,\n",
       "       1.27391716e+00, 1.11264773e-01, 1.84081957e-01, 6.50571896e-01,\n",
       "       6.95447150e-01, 2.28708423e-01, 9.41141108e-01, 1.25091245e-02,\n",
       "       5.25822590e-02, 8.84087852e-01, 9.67679621e-01, 8.32376573e-01,\n",
       "       6.65363680e-01, 3.70581522e-01, 6.14216887e-01, 1.46687621e+00,\n",
       "       4.36707268e-01, 5.46018292e-01, 2.09273504e+00, 2.59747260e-01,\n",
       "       5.37601885e-01, 1.04156078e+00, 1.12302759e+00, 1.36112159e+00,\n",
       "       2.47310053e+00, 1.96390478e-01, 9.12315295e-01, 4.84479844e-02,\n",
       "       7.61107927e-01, 4.64601717e+00, 1.95090971e+00, 2.94120490e-01,\n",
       "       2.50248540e+00, 5.66121941e-01, 2.17062500e+00, 7.87586039e-01,\n",
       "       2.99157785e-01, 3.16202756e-01, 3.13083470e-01, 3.53851510e-01,\n",
       "       1.45993284e-01, 4.90210043e-01, 4.15797112e-01, 8.12350456e-01,\n",
       "       1.00563112e+01, 1.17650697e-01, 2.62970716e+00, 3.33749283e+00])"
      ]
     },
     "execution_count": 13,
     "metadata": {},
     "output_type": "execute_result"
    }
   ],
   "source": [
    "np.random.exponential(size=10)"
   ]
  },
  {
   "cell_type": "code",
   "execution_count": 17,
   "metadata": {
    "collapsed": false,
    "jupyter": {
     "outputs_hidden": false
    }
   },
   "outputs": [],
   "source": [
    "%matplotlib inline"
   ]
  },
  {
   "cell_type": "code",
   "execution_count": 16,
   "metadata": {
    "collapsed": false,
    "jupyter": {
     "outputs_hidden": false
    }
   },
   "outputs": [
    {
     "data": {
      "image/png": "[encoded data removed]",
      "text/plain": [
       "<matplotlib.figure.Figure at 0x7f35b2318550>"
      ]
     },
     "metadata": {},
     "output_type": "display_data"
    }
   ],
   "source": [
    "import numpy as np\n",
    "import matplotlib.pyplot as plt\n",
    "from scipy.stats import gaussian_kde\n",
    "\n",
    "m = 10000\n",
    "n = 1000 # start at 10 and move up to 10000\n",
    "\n",
    "means = np.zeros((m,))\n",
    "\n",
    "for i in range(m):\n",
    "    x = np.random.exponential(size=n)\n",
    "    means[i] = x.mean()\n",
    "    \n",
    "density = gaussian_kde(means)\n",
    "xs = np.linspace(0.5,1.5,200)\n",
    "density.covariance_factor = lambda : .25\n",
    "density._compute_covariance()\n",
    "plt.plot(xs,density(xs), lw = 2)\n",
    "plt.title(\"Kernel Densit Plot\")\n",
    "plt.grid(True)\n",
    "plt.show()"
   ]
  },
  {
   "cell_type": "markdown",
   "metadata": {},
   "source": [
    "## The Monte Carlo Method\n",
    "\n",
    "Now with that statistical limit theory as a background we can turn our attention to introducting the Monte Carlo Method.\n",
    "\n",
    "Many quantities of interest in inferential statistical analyses can be expressed as the expectation of a function of a random variable, say $E\\{h(Y)\\}$. Let $f$ denote the density of $Y$, and $\\mu$ denote the expectation of $h(Y)$ with respect to $f$. When an i.i.d random sample $Y_{1}, \\ldots, Y_{n}$ is obtained from $f$, we can approximate $\\mu$ by a sample average:\n",
    "\n",
    "$$\\hat{\\mu}_{MC} = \\frac{1}{n} \\sum\\limits_{i=1}^{n} h(Y_{i}) \\rightarrow \\int\\limits h(Y)f(Y)dy = \\mu$$\n",
    "\n",
    "as $n \\rightarrow \\infty$, by the strong law of large numbers. Further, let $v(y) = [h(Y) - \\mu]^{2}$, and assume that $H(Y)^{2}$ has finite expectation under $f$. Then the sampling variance of $\\hat{\\mu}_{MC}$ is $\\sigma^{2}/n = E\\{v(Y)/n\\}$, where the expectation is taken with respect to $f$. A similar Monte Carlo approach can be used to estimate $\\sigma^{2}$ by\n",
    "\n",
    "$$\\hat{var}\\{\\hat{\\mu}_{MC}\\} = \\frac{1}{n - 1} \\sum\\limits_{i=1}^{n} [h(Y_{i}) - \\hat{\\mu}_{MC}]^{2}$$\n",
    "\n",
    "When $\\sigma^{2}$ exists, the central limit theorem implies that $\\hat{\\mu}_{MC}$ has an approximate normal distribution for large $n$, so approximate confidence bounds and statistical inference for $\\mu$ follow.\n",
    "\n",
    "Monte Carlo integration offers slower convergence than other numerical methods for integration, so why should we use it? It turns out that Monte Carlo integration is less subject to the curse of dimensionality as other methods, so the Monte Carlo method is especially helpful for multidimensional problems. Also, some methods like quadrature require smoothness, while Monte Carlo ignores smoothness alrogether. \n",
    "\n",
    "### Approximating a Deterministic Definite Integral with the Monte Carlo Method\n",
    "\n",
    "Let's consider the simple function:\n",
    "\n",
    "$$f(x) = 4 - 4x^{2}$$\n",
    "\n",
    "and the following definite integral:\n",
    "\n",
    "$$\\int\\limits_{0}^{1} (4 - 4x^{2})dx$$\n",
    "\n",
    "This is a simple function to integrate and we can use analytical methods from calculus to solve it as follows:\n",
    "\n",
    "$$\\int\\limits_{0}^{1} (4 - 4x^{2})dx = (4x - \\frac{4}{3}x^{3})\\bigm|_{0}^{1} = (4(1) - \\frac{4}{3}(1)^{3}) - (4(0) - \\frac{4}{3}(0)^{3}) = \\frac{8}{3} \\approx 2.6667$$\n",
    "\n",
    "A useful tool if your calculus skills are rusty is ***[Wolfram Alpha](http://www.wolframalpha.com/input/?i=Integrate+4+-+4x%5E2+from+0+to+1)***.\n",
    "\n",
    "To use the Monte Carlo method to solve this integral numerically, we turn it into an expectation over a random variable:\n",
    "\n",
    "$$\\hat{\\mu}_{MC} = \\frac{1}{n} \\sum\\limits_{i=1}^{n} (4 - 4X_{i}^{2})$$\n",
    "\n",
    "where the $X_{i}$ are random draws from a uniform distribution on the interval $[0,1]$ for $i = 1, \\ldots, n$.\n",
    "\n",
    "Let's see how we can accomplish this in `Python`:"
   ]
  },
  {
   "cell_type": "code",
   "execution_count": 1,
   "metadata": {
    "collapsed": false,
    "jupyter": {
     "outputs_hidden": false
    }
   },
   "outputs": [
    {
     "name": "stdout",
     "output_type": "stream",
     "text": [
      "The Monte Carlo estimate of the integral is: 2.6651\n"
     ]
    }
   ],
   "source": [
    "import numpy as np\n",
    "\n",
    "def f(x):\n",
    "    y = 4 - 4 * x ** 2\n",
    "    return y \n",
    "\n",
    "def main():\n",
    "    # Generate random values between 0 and 1\n",
    "    u = np.random.uniform(0, 1, size = 10**6)\n",
    "\n",
    "    # Evaluate the function for each value u\n",
    "    y = f(u)\n",
    "\n",
    "    # Approximate the integral with the mean\n",
    "    muhat = y.mean()\n",
    "    \n",
    "    # Print the answer\n",
    "    print(\"The Monte Carlo estimate of the integral is: %s\" % round(muhat, 4))\n",
    "    \n",
    "## Main function\n",
    "main()"
   ]
  },
  {
   "cell_type": "markdown",
   "metadata": {},
   "source": [
    "## Using the Monte Carlo Method for Option Pricing\n",
    "\n",
    "We saw that we could we could write the single-period Binomial option pricing model as:\n",
    "\n",
    "$$C_{0} = e^{-rT} [C_{u} p^{\\ast} - C_{d}(1 - p^{\\ast})]$$\n",
    "\n",
    "which we said was the risk-neutral interpretation of the model. We also saw that we could think of the model as containing two terms:\n",
    "\n",
    "1. An expected cash flow from holding the option at expiration: $[C_{u} p^{\\ast} - C_{d}(1 - p^{\\ast})]$.\n",
    "2. A discount factor to bring the expect cash flow to present value: $e^{-rT}$.\n",
    "\n",
    "We can write this generically as:\n",
    "\n",
    "$$C_{0} = e^{-rT} E\\{CF_{T}\\}$$\n",
    "\n",
    "where $CF_{T}$ is the cash flow from holding the option at expiration. As we will see this holds even for more complex price dynamics beyond the Binomial tree. We will see that if we can simulate from a given stock price process (whatever it be), that we can price the option by simulating many stock price paths, applying the option payoff function, taking a sample average and discounting to present value:\n",
    "\n",
    "$$\\hat{C_{0}} = \\frac{1}{n} \\sum\\limits_{i=1}^{n} C_{0,i}$$\n",
    "\n",
    "where $C_{0,i} = e^{-rT} C_{T,i}$ and $C_{T,i} = \\max{(S_{T,i} - K, 0)}$, and $S_{T,i}$ is the $i^{th}$ terminal simulated stock price for $i = 1, \\ldots, n$ for a call option. A put option would be similar, but would apply the put payoff function instead.\n",
    "\n",
    "As we will see this is a very simple way to price options and will apply even for very complex stock price dynamics such as jumps in price and stochastic volatility, which seem to be required by the data."
   ]
  },
  {
   "cell_type": "code",
   "execution_count": null,
   "metadata": {
    "collapsed": false,
    "jupyter": {
     "outputs_hidden": false
    }
   },
   "outputs": [],
   "source": []
  }
 ],
 "metadata": {
  "anaconda-cloud": {},
  "kernelspec": {
   "display_name": "Python 3",
   "language": "python",
   "name": "python3"
  },
  "language_info": {
   "codemirror_mode": {
    "name": "ipython",
    "version": 3
   },
   "file_extension": ".py",
   "mimetype": "text/x-python",
   "name": "python",
   "nbconvert_exporter": "python",
   "pygments_lexer": "ipython3",
   "version": "3.7.4"
  }
 },
 "nbformat": 4,
 "nbformat_minor": 4
}
