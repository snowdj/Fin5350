{
 "cells": [
  {
   "cell_type": "code",
   "execution_count": 1,
   "metadata": {},
   "outputs": [],
   "source": [
    "import numpy as np\n",
    "from scipy.stats import binom\n",
    "import matplotlib.pyplot as plt"
   ]
  },
  {
   "cell_type": "code",
   "execution_count": 5,
   "metadata": {},
   "outputs": [],
   "source": [
    "from option import VanillaOption, call_payoff, put_payoff"
   ]
  },
  {
   "cell_type": "code",
   "execution_count": 6,
   "metadata": {},
   "outputs": [],
   "source": [
    "def american_binomial_prob4(option, spot, rate, vol, div, steps):\n",
    "    strike = option.strike\n",
    "    expiry = option.expiry\n",
    "    call_t = 0.0\n",
    "    spot_t = 0.0\n",
    "    h = expiry / steps\n",
    "    num_nodes = steps + 1\n",
    "    #u = np.exp((rate - div) * h + vol * np.sqrt(h))\n",
    "    #d = np.exp((rate - div) * h - vol * np.sqrt(h))\n",
    "    u = 1.3\n",
    "    d = 0.8\n",
    "    pstar = (np.exp(rate * h) - d) / ( u - d)\n",
    "    disc = np.exp(-rate * h) \n",
    "    spot_t = np.zeros((num_nodes, num_nodes))\n",
    "    prc_t = np.zeros((num_nodes, num_nodes))\n",
    "    del_t = np.zeros((num_nodes, num_nodes))\n",
    "    bond_t = np.zeros((num_nodes, num_nodes))\n",
    "    \n",
    "    for j in range(num_nodes):\n",
    "        spot_t[j,-1] = spot * (u ** (steps - j)) * (d ** (j))\n",
    "        prc_t[j, -1] = option.payoff(spot_t[j, -1])\n",
    "\n",
    "    for i in range((steps - 1), -1, -1):\n",
    "        for j in range(i+1):\n",
    "            spot_t[j,i] = spot_t[j,i+1] / u\n",
    "            del_t[j,i] = (prc_t[j,i+1] - prc_t[j+1, i+1]) / (spot_t[j,i] * (u - d))\n",
    "            bond_t[j,i] = disc * (u * prc_t[j+1,i+1] - d * prc_t[j,i+1])/ (u - d)\n",
    "            prc_t[j,i] = del_t[j,i] * spot_t[j,i] + bond_t[j,i]\n",
    "            \n",
    "    return (prc_t[0,0], del_t[0,0])"
   ]
  },
  {
   "cell_type": "code",
   "execution_count": 7,
   "metadata": {},
   "outputs": [],
   "source": [
    "spot = 104.0\n",
    "strike = 95.0\n",
    "rate = 0.08\n",
    "expiry = 1.0\n",
    "vol = 0.3\n",
    "div = 0.0\n",
    "u = 1.3\n",
    "d = 0.8\n",
    "steps = 3"
   ]
  },
  {
   "cell_type": "code",
   "execution_count": 9,
   "metadata": {},
   "outputs": [
    {
     "name": "stdout",
     "output_type": "stream",
     "text": [
      "(80.00, 11.08, 0.48)\n",
      "(90.00, 17.19, 0.61)\n",
      "(110.00, 29.42, 0.79)\n",
      "(120.00, 37.35, 0.84)\n",
      "(130.00, 46.58, 0.88)\n"
     ]
    }
   ],
   "source": [
    "spots = [80.0, 90.0, 110.0, 120.0, 130.0]\n",
    "\n",
    "for spot in spots:\n",
    "    the_call = VanillaOption(strike, expiry, call_payoff)\n",
    "    prc, delta = american_binomial_prob4(the_call, spot, rate, vol, div, steps)\n",
    "    print(f\"({spot:0.2f}, {prc:0.2f}, {delta:0.2f})\")"
   ]
  },
  {
   "cell_type": "code",
   "execution_count": null,
   "metadata": {},
   "outputs": [],
   "source": []
  },
  {
   "cell_type": "code",
   "execution_count": null,
   "metadata": {},
   "outputs": [],
   "source": []
  },
  {
   "cell_type": "code",
   "execution_count": null,
   "metadata": {},
   "outputs": [],
   "source": []
  },
  {
   "cell_type": "code",
   "execution_count": null,
   "metadata": {},
   "outputs": [],
   "source": []
  },
  {
   "cell_type": "code",
   "execution_count": 7,
   "metadata": {},
   "outputs": [],
   "source": []
  },
  {
   "cell_type": "code",
   "execution_count": null,
   "metadata": {},
   "outputs": [],
   "source": []
  }
 ],
 "metadata": {
  "kernelspec": {
   "display_name": "Python 3",
   "language": "python",
   "name": "python3"
  },
  "language_info": {
   "codemirror_mode": {
    "name": "ipython",
    "version": 3
   },
   "file_extension": ".py",
   "mimetype": "text/x-python",
   "name": "python",
   "nbconvert_exporter": "python",
   "pygments_lexer": "ipython3",
   "version": "3.7.4"
  }
 },
 "nbformat": 4,
 "nbformat_minor": 4
}
