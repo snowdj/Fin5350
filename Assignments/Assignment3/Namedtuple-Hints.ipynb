{
 "cells": [
  {
   "cell_type": "markdown",
   "metadata": {},
   "source": [
    "## Namedtuple Hint\n",
    "\n",
    "You want to create a `namedtuple` to return both an estimated price and a standard error from your pricer function. \n",
    "\n",
    "<br>\n",
    "\n",
    "The following snippet of code suggests how you might do this. \n",
    "\n",
    "<br>"
   ]
  },
  {
   "cell_type": "code",
   "execution_count": 1,
   "metadata": {},
   "outputs": [],
   "source": [
    "from collections import namedtuple"
   ]
  },
  {
   "cell_type": "code",
   "execution_count": 2,
   "metadata": {},
   "outputs": [],
   "source": [
    "PricerResult = namedtuple('PricerResult', ['price', 'stderr'])"
   ]
  },
  {
   "cell_type": "markdown",
   "metadata": {},
   "source": [
    "<br>\n",
    "\n",
    "Then within your pricer function you can do something like this:\n",
    "\n",
    "<br>"
   ]
  },
  {
   "cell_type": "code",
   "execution_count": 3,
   "metadata": {},
   "outputs": [],
   "source": [
    "def naive_monte_carlo_pricer(option, spot, rate, vol, div, reps):\n",
    "    ## your actual code goes here, in which I assume you \n",
    "    ## calculate both the estimated option price and standard error\n",
    "    ## for now I'll just put in some place-holder values\n",
    "    price = 6.96\n",
    "    stderr = 0.10\n",
    "    \n",
    "    return PricerResult(price, stderr)"
   ]
  },
  {
   "cell_type": "markdown",
   "metadata": {},
   "source": [
    "<br>\n",
    "\n",
    "Then you can call it like this:\n",
    "\n",
    "<br>"
   ]
  },
  {
   "cell_type": "code",
   "execution_count": 4,
   "metadata": {},
   "outputs": [],
   "source": [
    "from option import VanillaOption, call_payoff, put_payoff\n",
    "\n",
    "the_call = VanillaOption(40.0, 1.0, call_payoff)\n",
    "result = naive_monte_carlo_pricer(the_call, 41.0, .08, .30, .00, 10)"
   ]
  },
  {
   "cell_type": "code",
   "execution_count": 5,
   "metadata": {},
   "outputs": [
    {
     "data": {
      "text/plain": [
       "6.96"
      ]
     },
     "execution_count": 5,
     "metadata": {},
     "output_type": "execute_result"
    }
   ],
   "source": [
    "result.price"
   ]
  },
  {
   "cell_type": "code",
   "execution_count": 6,
   "metadata": {},
   "outputs": [
    {
     "data": {
      "text/plain": [
       "0.1"
      ]
     },
     "execution_count": 6,
     "metadata": {},
     "output_type": "execute_result"
    }
   ],
   "source": [
    "result.stderr"
   ]
  },
  {
   "cell_type": "markdown",
   "metadata": {},
   "source": [
    "<br>\n",
    "\n",
    "Now you have a simple type that you can pass back to the call site that has both the price and standard error. \n",
    "\n",
    "<br>\n",
    "\n",
    "This should be enough of a hint without taking all of the fun out of it! Good luck!!\n",
    "\n",
    "<br>"
   ]
  },
  {
   "cell_type": "code",
   "execution_count": null,
   "metadata": {},
   "outputs": [],
   "source": []
  }
 ],
 "metadata": {
  "kernelspec": {
   "display_name": "Python 3",
   "language": "python",
   "name": "python3"
  },
  "language_info": {
   "codemirror_mode": {
    "name": "ipython",
    "version": 3
   },
   "file_extension": ".py",
   "mimetype": "text/x-python",
   "name": "python",
   "nbconvert_exporter": "python",
   "pygments_lexer": "ipython3",
   "version": "3.7.3"
  }
 },
 "nbformat": 4,
 "nbformat_minor": 4
}
